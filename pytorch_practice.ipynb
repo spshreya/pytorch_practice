{
  "nbformat": 4,
  "nbformat_minor": 0,
  "metadata": {
    "colab": {
      "provenance": [],
      "gpuType": "T4",
      "authorship_tag": "ABX9TyMvQWgIRZ1psQm0DcyQhjQB"
    },
    "kernelspec": {
      "name": "python3",
      "display_name": "Python 3"
    },
    "language_info": {
      "name": "python"
    },
    "accelerator": "GPU"
  },
  "cells": [
    {
      "cell_type": "markdown",
      "source": [
        "## 00. PyTorch Fundamentals FreeCodeCamp mrdbrouke\n",
        "\n",
        "https://www.learnpytorch.io/00_pytorch_fundamentals/"
      ],
      "metadata": {
        "id": "sXSEACaxoz56"
      }
    },
    {
      "cell_type": "code",
      "execution_count": null,
      "metadata": {
        "id": "VZKnd5ISGgYw",
        "colab": {
          "base_uri": "https://localhost:8080/"
        },
        "outputId": "26c0a552-209d-4a5b-a0e2-86f1b4a01e29"
      },
      "outputs": [
        {
          "output_type": "stream",
          "name": "stdout",
          "text": [
            "/bin/bash: line 1: nvidia-smi: command not found\n"
          ]
        }
      ],
      "source": [
        "!nvidia-smi"
      ]
    },
    {
      "cell_type": "code",
      "source": [
        "import torch\n",
        "import pandas as pd\n",
        "import numpy as np\n",
        "import matplotlib.pyplot as plt\n",
        "print(torch.__version__)"
      ],
      "metadata": {
        "colab": {
          "base_uri": "https://localhost:8080/"
        },
        "id": "O_yEI-wcn9kq",
        "outputId": "bc5e7a89-2939-424f-b135-38c0d3419455"
      },
      "execution_count": 1,
      "outputs": [
        {
          "output_type": "stream",
          "name": "stdout",
          "text": [
            "2.1.0+cu121\n"
          ]
        }
      ]
    },
    {
      "cell_type": "markdown",
      "source": [
        "#Introduction to Tensors\n",
        "\n",
        "##Creating Tensors"
      ],
      "metadata": {
        "id": "jhn3N34kq0Ne"
      }
    },
    {
      "cell_type": "code",
      "source": [
        "#scalar\n",
        "scalar = torch.tensor(7)"
      ],
      "metadata": {
        "id": "CYFOxF2xpP8f"
      },
      "execution_count": null,
      "outputs": []
    },
    {
      "cell_type": "code",
      "source": [
        "scalar"
      ],
      "metadata": {
        "colab": {
          "base_uri": "https://localhost:8080/"
        },
        "id": "gd0wEKivrAY_",
        "outputId": "59cc1d5c-7643-4592-a053-eea399727a08"
      },
      "execution_count": null,
      "outputs": [
        {
          "output_type": "execute_result",
          "data": {
            "text/plain": [
              "tensor(7)"
            ]
          },
          "metadata": {},
          "execution_count": 4
        }
      ]
    },
    {
      "cell_type": "code",
      "source": [
        "scalar.ndim  #scalar has no dimensions"
      ],
      "metadata": {
        "colab": {
          "base_uri": "https://localhost:8080/"
        },
        "id": "ExyjF6B6rBUw",
        "outputId": "3213b3ec-c258-4f0c-8210-0be13a5fe891"
      },
      "execution_count": null,
      "outputs": [
        {
          "output_type": "execute_result",
          "data": {
            "text/plain": [
              "0"
            ]
          },
          "metadata": {},
          "execution_count": 5
        }
      ]
    },
    {
      "cell_type": "code",
      "source": [
        "scalar.item()  #tensor back as python int"
      ],
      "metadata": {
        "colab": {
          "base_uri": "https://localhost:8080/"
        },
        "id": "KHY8v4HtrfTG",
        "outputId": "c2be6616-73b8-4e07-8545-039e739a48fc"
      },
      "execution_count": null,
      "outputs": [
        {
          "output_type": "execute_result",
          "data": {
            "text/plain": [
              "7"
            ]
          },
          "metadata": {},
          "execution_count": 6
        }
      ]
    },
    {
      "cell_type": "code",
      "source": [
        "#vector\n",
        "vector = torch.tensor((1,7))\n",
        "vector"
      ],
      "metadata": {
        "colab": {
          "base_uri": "https://localhost:8080/"
        },
        "id": "yRmaAL1Zrj5u",
        "outputId": "50f933ea-5c35-4977-c043-1c481b0cdfad"
      },
      "execution_count": null,
      "outputs": [
        {
          "output_type": "execute_result",
          "data": {
            "text/plain": [
              "tensor([1, 7])"
            ]
          },
          "metadata": {},
          "execution_count": 7
        }
      ]
    },
    {
      "cell_type": "code",
      "source": [
        "vector.ndim"
      ],
      "metadata": {
        "colab": {
          "base_uri": "https://localhost:8080/"
        },
        "id": "lW6NYLXlrq5L",
        "outputId": "c453ba47-8dca-4d6f-d9b6-3c1c637fbe81"
      },
      "execution_count": null,
      "outputs": [
        {
          "output_type": "execute_result",
          "data": {
            "text/plain": [
              "1"
            ]
          },
          "metadata": {},
          "execution_count": 8
        }
      ]
    },
    {
      "cell_type": "code",
      "source": [
        "vector.shape"
      ],
      "metadata": {
        "colab": {
          "base_uri": "https://localhost:8080/"
        },
        "id": "g1VCOvGdrxIK",
        "outputId": "cbedc725-1a70-47be-c929-df1a9d2d7ddf"
      },
      "execution_count": null,
      "outputs": [
        {
          "output_type": "execute_result",
          "data": {
            "text/plain": [
              "torch.Size([2])"
            ]
          },
          "metadata": {},
          "execution_count": 9
        }
      ]
    },
    {
      "cell_type": "code",
      "source": [
        "  #Matrix\n",
        "\n",
        "  MATRIX = torch.tensor([[7,8],\n",
        "                         [9,10]])\n",
        "  MATRIX"
      ],
      "metadata": {
        "colab": {
          "base_uri": "https://localhost:8080/"
        },
        "id": "kKGkRj-br0sQ",
        "outputId": "6e1cafe2-fc5e-4326-8e2d-3039180d4c07"
      },
      "execution_count": null,
      "outputs": [
        {
          "output_type": "execute_result",
          "data": {
            "text/plain": [
              "tensor([[ 7,  8],\n",
              "        [ 9, 10]])"
            ]
          },
          "metadata": {},
          "execution_count": 10
        }
      ]
    },
    {
      "cell_type": "code",
      "source": [
        "MATRIX.ndim"
      ],
      "metadata": {
        "id": "KTyiwvUGvbR9",
        "colab": {
          "base_uri": "https://localhost:8080/"
        },
        "outputId": "1d0bf916-f4b5-45f9-dda0-643942f5be1d"
      },
      "execution_count": null,
      "outputs": [
        {
          "output_type": "execute_result",
          "data": {
            "text/plain": [
              "2"
            ]
          },
          "metadata": {},
          "execution_count": 11
        }
      ]
    },
    {
      "cell_type": "code",
      "source": [
        "MATRIX.shape"
      ],
      "metadata": {
        "colab": {
          "base_uri": "https://localhost:8080/"
        },
        "id": "FUSHfuVYSeE0",
        "outputId": "7ab680e6-127b-4119-cc54-a740a627c155"
      },
      "execution_count": null,
      "outputs": [
        {
          "output_type": "execute_result",
          "data": {
            "text/plain": [
              "torch.Size([2, 2])"
            ]
          },
          "metadata": {},
          "execution_count": 12
        }
      ]
    },
    {
      "cell_type": "code",
      "source": [
        "MATRIX[0]"
      ],
      "metadata": {
        "colab": {
          "base_uri": "https://localhost:8080/"
        },
        "id": "KYvSLQLAXDeg",
        "outputId": "d2ec044e-de11-4f51-f1d5-23d54e4d32d7"
      },
      "execution_count": null,
      "outputs": [
        {
          "output_type": "execute_result",
          "data": {
            "text/plain": [
              "tensor([7, 8])"
            ]
          },
          "metadata": {},
          "execution_count": 13
        }
      ]
    },
    {
      "cell_type": "code",
      "source": [
        "MATRIX[1]"
      ],
      "metadata": {
        "colab": {
          "base_uri": "https://localhost:8080/"
        },
        "id": "4IPVY0N3SmfE",
        "outputId": "d99519c9-d8bb-46c6-c343-ea533052eaa0"
      },
      "execution_count": null,
      "outputs": [
        {
          "output_type": "execute_result",
          "data": {
            "text/plain": [
              "tensor([ 9, 10])"
            ]
          },
          "metadata": {},
          "execution_count": 14
        }
      ]
    },
    {
      "cell_type": "code",
      "source": [
        "TENSOR = torch.tensor([[[1,2,3],\n",
        "                        [3,6,9],\n",
        "                        [2,4,5]]])\n",
        "TENSOR"
      ],
      "metadata": {
        "colab": {
          "base_uri": "https://localhost:8080/"
        },
        "id": "2zeqGV-hSp4c",
        "outputId": "523bbcc2-0d35-4d3c-afa7-d1bfe5103130"
      },
      "execution_count": null,
      "outputs": [
        {
          "output_type": "execute_result",
          "data": {
            "text/plain": [
              "tensor([[[1, 2, 3],\n",
              "         [3, 6, 9],\n",
              "         [2, 4, 5]]])"
            ]
          },
          "metadata": {},
          "execution_count": 15
        }
      ]
    },
    {
      "cell_type": "code",
      "source": [
        "TENSOR.ndim"
      ],
      "metadata": {
        "colab": {
          "base_uri": "https://localhost:8080/"
        },
        "id": "PdtqFr0YTHLh",
        "outputId": "8b483455-a148-4fa0-a622-d494cd36ec97"
      },
      "execution_count": null,
      "outputs": [
        {
          "output_type": "execute_result",
          "data": {
            "text/plain": [
              "3"
            ]
          },
          "metadata": {},
          "execution_count": 16
        }
      ]
    },
    {
      "cell_type": "code",
      "source": [
        "TENSOR.shape   #we have 1 -3*3 matrix"
      ],
      "metadata": {
        "colab": {
          "base_uri": "https://localhost:8080/"
        },
        "id": "pvGXuYKeVUXr",
        "outputId": "def2b167-b819-4f63-bddf-1f895cb9576d"
      },
      "execution_count": null,
      "outputs": [
        {
          "output_type": "execute_result",
          "data": {
            "text/plain": [
              "torch.Size([1, 3, 3])"
            ]
          },
          "metadata": {},
          "execution_count": 17
        }
      ]
    },
    {
      "cell_type": "code",
      "source": [
        "TENSOR[0]"
      ],
      "metadata": {
        "colab": {
          "base_uri": "https://localhost:8080/"
        },
        "id": "geVyhkihVsbL",
        "outputId": "a463a3c9-d84e-4574-f73c-45d912d182cd"
      },
      "execution_count": null,
      "outputs": [
        {
          "output_type": "execute_result",
          "data": {
            "text/plain": [
              "tensor([[1, 2, 3],\n",
              "        [3, 6, 9],\n",
              "        [2, 4, 5]])"
            ]
          },
          "metadata": {},
          "execution_count": 18
        }
      ]
    },
    {
      "cell_type": "markdown",
      "source": [
        "### Random Tensors\n",
        "\n",
        "They are important as many NNs learn is that when they start, it is with random numbers and then adjust the numbers to a better representation of numbers\n",
        "\n",
        "\n",
        "\n",
        "start with random numbers -> look at data -> update random numbers -> look at data -> update"
      ],
      "metadata": {
        "id": "ijGOPup2Xewz"
      }
    },
    {
      "cell_type": "code",
      "source": [
        "random_tensor = torch.rand(10,10,10)\n",
        "random_tensor"
      ],
      "metadata": {
        "colab": {
          "base_uri": "https://localhost:8080/"
        },
        "id": "J0YkmiPJYbC9",
        "outputId": "a1611a04-b483-4c60-ec8f-4f9cb1259c37"
      },
      "execution_count": null,
      "outputs": [
        {
          "output_type": "execute_result",
          "data": {
            "text/plain": [
              "tensor([[[6.3125e-01, 6.3973e-01, 6.5687e-01, 2.0218e-01, 9.1766e-01,\n",
              "          6.5235e-01, 2.2808e-02, 1.6575e-01, 6.6542e-02, 3.2724e-01],\n",
              "         [6.2387e-01, 5.1152e-01, 9.1302e-01, 5.3470e-01, 3.6705e-01,\n",
              "          6.2966e-01, 4.3801e-01, 7.3392e-01, 2.8484e-01, 2.2610e-01],\n",
              "         [5.3206e-01, 2.0454e-02, 8.2877e-01, 4.8589e-01, 2.1121e-01,\n",
              "          6.5266e-01, 7.6399e-01, 7.4409e-01, 9.7728e-01, 3.6944e-02],\n",
              "         [6.7572e-01, 4.6500e-01, 9.2131e-01, 4.5818e-02, 7.1571e-01,\n",
              "          3.4773e-01, 8.7249e-01, 1.2284e-01, 4.8983e-01, 5.2429e-01],\n",
              "         [5.6881e-01, 5.7972e-01, 8.5306e-02, 4.9436e-02, 5.5888e-01,\n",
              "          9.2245e-01, 2.4754e-01, 5.8029e-01, 6.7433e-01, 3.7447e-01],\n",
              "         [3.8131e-01, 3.7562e-01, 8.3159e-01, 1.6411e-01, 5.2859e-01,\n",
              "          5.4191e-01, 7.2867e-01, 7.6577e-01, 3.8172e-01, 7.8167e-01],\n",
              "         [1.5543e-01, 7.2054e-01, 3.4048e-01, 7.6670e-02, 4.4102e-01,\n",
              "          3.5751e-01, 3.1177e-02, 3.2519e-01, 1.8711e-02, 3.2950e-01],\n",
              "         [2.4426e-01, 8.7040e-01, 9.7988e-01, 4.1433e-01, 8.7600e-02,\n",
              "          1.0669e-01, 6.3711e-01, 1.1680e-01, 9.9523e-01, 9.7440e-01],\n",
              "         [5.9870e-01, 5.6608e-01, 5.7555e-02, 2.0930e-01, 2.6853e-02,\n",
              "          1.4885e-01, 2.3314e-01, 3.2652e-01, 8.9859e-01, 8.3838e-01],\n",
              "         [7.6576e-01, 6.4850e-01, 5.9813e-01, 3.2140e-01, 1.4601e-02,\n",
              "          1.5086e-01, 5.6094e-01, 5.8944e-01, 2.8657e-01, 7.4482e-02]],\n",
              "\n",
              "        [[9.5509e-01, 5.8091e-01, 9.1011e-01, 6.3590e-01, 6.2896e-01,\n",
              "          6.5434e-01, 7.1820e-01, 1.3643e-01, 4.6173e-01, 2.2659e-01],\n",
              "         [3.9593e-01, 1.0542e-01, 3.2645e-01, 2.0571e-01, 2.8147e-01,\n",
              "          5.9341e-01, 8.0844e-01, 7.6758e-01, 5.5731e-01, 5.0008e-05],\n",
              "         [7.4455e-02, 2.0774e-01, 3.0062e-01, 5.4130e-01, 6.8577e-01,\n",
              "          9.0110e-01, 3.8764e-03, 7.9369e-01, 5.4807e-02, 1.2681e-02],\n",
              "         [3.0079e-01, 7.1063e-01, 8.8932e-01, 8.5867e-01, 1.0771e-01,\n",
              "          7.9846e-01, 8.1416e-01, 4.3535e-01, 6.9790e-01, 9.8895e-01],\n",
              "         [1.2776e-03, 8.2947e-01, 1.2993e-01, 3.9963e-01, 8.9384e-01,\n",
              "          2.9765e-02, 8.9919e-01, 4.0597e-01, 9.3767e-02, 1.2205e-01],\n",
              "         [6.7929e-01, 4.1590e-01, 4.7758e-01, 4.5898e-01, 6.1178e-01,\n",
              "          9.3313e-01, 3.9749e-01, 5.0065e-01, 3.9890e-01, 7.8071e-01],\n",
              "         [2.2467e-01, 1.1412e-01, 6.0855e-01, 9.0823e-01, 2.1723e-01,\n",
              "          8.7489e-02, 1.0194e-01, 4.0046e-01, 6.9851e-01, 1.8278e-01],\n",
              "         [6.3370e-01, 8.1133e-01, 4.9179e-01, 6.5324e-01, 8.5404e-01,\n",
              "          1.7488e-01, 5.3849e-01, 9.7377e-01, 1.8829e-01, 4.3739e-01],\n",
              "         [7.3202e-02, 7.2659e-01, 9.8128e-01, 5.1846e-01, 2.4684e-01,\n",
              "          6.4619e-01, 1.1301e-01, 2.0903e-01, 1.9420e-01, 7.4115e-01],\n",
              "         [5.2500e-01, 8.9687e-01, 7.7780e-01, 5.4860e-01, 4.5794e-01,\n",
              "          1.9151e-01, 1.7783e-01, 1.4126e-01, 4.2920e-01, 6.9943e-01]],\n",
              "\n",
              "        [[7.9188e-01, 8.0834e-01, 1.1975e-02, 7.1946e-01, 5.3702e-01,\n",
              "          3.8426e-01, 9.3334e-01, 2.4349e-01, 6.6964e-01, 8.6898e-01],\n",
              "         [3.2504e-01, 9.6509e-01, 3.4993e-01, 4.2868e-01, 8.4406e-01,\n",
              "          8.4235e-02, 6.3308e-01, 7.1342e-01, 5.3227e-01, 7.8671e-01],\n",
              "         [5.1556e-01, 6.5325e-01, 9.8315e-01, 6.6895e-02, 5.5460e-01,\n",
              "          9.0009e-01, 6.2159e-01, 1.8022e-01, 1.3640e-01, 9.3168e-01],\n",
              "         [5.5959e-02, 1.3565e-01, 4.1426e-01, 9.0413e-01, 5.3448e-01,\n",
              "          2.0908e-01, 3.1818e-01, 2.6083e-01, 7.5593e-01, 6.0487e-01],\n",
              "         [8.5458e-01, 3.7735e-01, 9.4466e-01, 7.3840e-01, 1.2390e-01,\n",
              "          4.5624e-01, 4.9230e-01, 1.7017e-01, 6.1758e-01, 3.8751e-01],\n",
              "         [5.7673e-01, 1.5478e-01, 5.8802e-01, 1.4341e-01, 5.4778e-01,\n",
              "          6.5196e-01, 9.5942e-01, 1.0353e-01, 3.9202e-01, 4.5443e-01],\n",
              "         [1.8417e-01, 8.6425e-01, 3.7493e-01, 4.2012e-01, 1.1283e-01,\n",
              "          6.9547e-01, 2.4755e-01, 2.1027e-01, 8.5417e-01, 3.0896e-01],\n",
              "         [9.2040e-01, 7.1815e-01, 2.5943e-01, 1.2000e-01, 9.9531e-01,\n",
              "          1.1188e-01, 2.9852e-01, 6.4935e-01, 8.5602e-01, 4.3771e-01],\n",
              "         [2.9503e-01, 2.0958e-01, 1.5554e-02, 5.3555e-01, 1.8404e-01,\n",
              "          1.3510e-01, 3.6788e-01, 5.0248e-01, 9.9358e-01, 1.1461e-01],\n",
              "         [1.8322e-01, 3.8475e-01, 5.6032e-01, 6.9610e-01, 2.2192e-01,\n",
              "          7.2228e-01, 4.7419e-02, 4.1779e-01, 1.0116e-01, 4.1861e-02]],\n",
              "\n",
              "        [[2.2341e-01, 3.3949e-01, 6.9819e-01, 1.3374e-01, 4.9452e-01,\n",
              "          1.8956e-01, 5.3978e-02, 4.7644e-01, 5.2668e-01, 4.6039e-01],\n",
              "         [1.8309e-01, 3.3149e-01, 1.4283e-01, 5.6563e-01, 7.2851e-01,\n",
              "          9.3375e-01, 8.1077e-01, 4.7855e-01, 1.5587e-01, 7.7295e-01],\n",
              "         [6.9999e-02, 3.9313e-01, 8.7249e-01, 1.7362e-01, 4.8734e-01,\n",
              "          7.1832e-01, 7.2224e-01, 3.1203e-01, 5.5438e-01, 5.1240e-01],\n",
              "         [4.4176e-01, 4.2467e-01, 5.4264e-01, 7.4530e-01, 1.6187e-01,\n",
              "          5.4034e-01, 4.1522e-01, 6.6274e-01, 1.7745e-01, 2.5802e-01],\n",
              "         [2.6845e-01, 3.5512e-01, 8.8791e-01, 3.9264e-01, 7.5286e-01,\n",
              "          8.7947e-01, 7.7557e-01, 3.6113e-01, 3.9114e-01, 8.2149e-01],\n",
              "         [3.4415e-01, 4.4307e-01, 9.8640e-01, 5.0279e-02, 1.9686e-01,\n",
              "          4.1718e-01, 8.4662e-01, 2.9849e-01, 8.4326e-01, 5.2074e-01],\n",
              "         [3.2947e-01, 3.3219e-01, 9.7284e-01, 6.3269e-01, 6.5143e-01,\n",
              "          4.1243e-01, 7.3023e-01, 8.7335e-01, 3.0153e-01, 4.5921e-01],\n",
              "         [4.1923e-01, 5.2926e-01, 8.6408e-01, 7.9179e-01, 7.4012e-01,\n",
              "          6.7915e-01, 4.7598e-01, 7.2629e-01, 4.8833e-01, 8.4262e-01],\n",
              "         [6.1247e-03, 6.0715e-01, 9.7241e-01, 3.3255e-01, 9.3033e-01,\n",
              "          9.0391e-01, 6.0344e-01, 6.4496e-01, 7.4983e-01, 5.8105e-01],\n",
              "         [3.0659e-01, 6.1616e-01, 3.4047e-01, 2.4741e-01, 3.0465e-01,\n",
              "          1.3516e-01, 8.0855e-02, 8.0514e-01, 2.0201e-01, 2.0715e-01]],\n",
              "\n",
              "        [[4.1196e-01, 9.4082e-01, 5.4301e-01, 4.8924e-01, 6.2516e-01,\n",
              "          8.0978e-01, 5.7261e-01, 6.8406e-01, 5.7598e-01, 5.2357e-01],\n",
              "         [8.4823e-01, 9.6161e-01, 1.4761e-01, 7.2947e-01, 7.1557e-01,\n",
              "          1.9763e-01, 1.2108e-02, 7.0702e-01, 4.1794e-01, 3.5859e-01],\n",
              "         [6.5336e-01, 2.9754e-02, 3.5446e-01, 9.2911e-01, 2.5487e-01,\n",
              "          4.5565e-02, 3.0468e-01, 9.5971e-01, 5.2849e-01, 7.8636e-02],\n",
              "         [7.1611e-01, 2.8229e-01, 5.1810e-01, 1.0462e-01, 4.8525e-01,\n",
              "          2.6063e-01, 2.0201e-01, 2.4388e-02, 6.8004e-01, 2.0778e-01],\n",
              "         [3.7274e-01, 7.8513e-01, 9.0356e-01, 2.7601e-01, 7.2755e-01,\n",
              "          2.4672e-01, 5.7184e-01, 4.1842e-01, 1.7634e-01, 1.7679e-01],\n",
              "         [9.9264e-01, 9.2974e-01, 2.3749e-01, 6.9658e-01, 7.8348e-01,\n",
              "          6.1618e-01, 4.6262e-01, 4.6433e-01, 4.5628e-01, 5.8269e-01],\n",
              "         [3.3857e-01, 2.3028e-01, 6.0201e-02, 3.9634e-01, 7.5499e-01,\n",
              "          7.3193e-01, 8.7001e-01, 3.4136e-01, 8.7959e-01, 9.3912e-01],\n",
              "         [2.7054e-01, 3.5654e-01, 7.6826e-01, 7.5906e-01, 6.9905e-01,\n",
              "          1.1108e-01, 2.5659e-01, 3.0587e-01, 2.4586e-01, 1.8626e-01],\n",
              "         [5.4390e-01, 7.9947e-01, 9.9350e-01, 9.4241e-01, 1.2937e-01,\n",
              "          4.6237e-01, 1.8793e-01, 6.7608e-01, 5.5135e-01, 3.8238e-01],\n",
              "         [6.3019e-01, 6.8041e-01, 2.8108e-01, 9.8093e-01, 2.1419e-01,\n",
              "          3.8302e-01, 8.4735e-01, 9.8682e-01, 7.6201e-02, 3.2977e-02]],\n",
              "\n",
              "        [[7.6329e-01, 6.8392e-01, 7.2203e-01, 7.6793e-01, 7.6749e-01,\n",
              "          3.8145e-02, 5.5157e-01, 4.3871e-01, 4.2347e-01, 1.8626e-01],\n",
              "         [9.8826e-01, 9.9777e-01, 6.4264e-01, 4.7415e-01, 9.4195e-01,\n",
              "          5.4225e-01, 4.5059e-01, 9.2268e-01, 3.9079e-01, 1.4224e-01],\n",
              "         [5.5567e-01, 4.6788e-01, 5.5621e-01, 5.1324e-01, 7.5736e-01,\n",
              "          7.7017e-01, 9.5088e-01, 9.2733e-02, 1.2490e-02, 6.2426e-01],\n",
              "         [3.9787e-01, 4.8478e-01, 3.3452e-01, 9.7979e-01, 2.1312e-01,\n",
              "          4.8158e-01, 8.0545e-01, 6.6431e-02, 9.7835e-01, 6.2679e-02],\n",
              "         [9.8527e-01, 4.5372e-01, 7.6501e-01, 7.7674e-01, 7.5369e-01,\n",
              "          6.3836e-01, 3.0692e-01, 3.7693e-01, 4.6064e-01, 5.9940e-01],\n",
              "         [6.7343e-01, 2.5068e-01, 2.3816e-01, 4.3167e-02, 9.5400e-01,\n",
              "          2.2075e-01, 3.2218e-02, 2.9591e-01, 1.4888e-01, 4.3029e-02],\n",
              "         [5.1918e-01, 2.4531e-01, 4.7238e-01, 4.5952e-01, 9.7051e-01,\n",
              "          8.1158e-01, 1.0728e-01, 3.3230e-01, 6.9380e-01, 1.8308e-01],\n",
              "         [3.5919e-01, 6.1557e-01, 6.6784e-01, 5.2803e-01, 2.1461e-01,\n",
              "          8.8816e-01, 9.3920e-01, 9.7246e-01, 9.2370e-01, 4.6984e-01],\n",
              "         [5.8852e-01, 7.2246e-01, 5.8286e-01, 8.7153e-01, 9.9920e-01,\n",
              "          2.1426e-01, 2.4606e-01, 3.5069e-02, 9.9745e-01, 5.5300e-01],\n",
              "         [5.0789e-01, 3.0924e-02, 6.1524e-02, 5.8859e-02, 9.4012e-01,\n",
              "          7.6556e-01, 8.8938e-01, 9.4034e-01, 6.3048e-01, 3.9243e-01]],\n",
              "\n",
              "        [[6.5219e-01, 2.9559e-03, 7.0405e-01, 8.1291e-01, 6.2429e-02,\n",
              "          6.8206e-01, 4.4208e-02, 4.8686e-01, 1.9395e-02, 5.5012e-01],\n",
              "         [1.7872e-01, 4.0892e-01, 2.7331e-01, 1.4315e-01, 5.2146e-01,\n",
              "          8.1213e-01, 5.6655e-01, 2.0595e-01, 6.7812e-01, 6.4481e-01],\n",
              "         [5.0626e-01, 6.2029e-01, 8.1508e-01, 8.6879e-01, 6.9987e-01,\n",
              "          8.5178e-01, 7.5079e-01, 9.8259e-01, 1.4372e-01, 9.1202e-02],\n",
              "         [2.1936e-01, 6.5940e-01, 6.8715e-01, 1.5354e-01, 8.9143e-01,\n",
              "          3.7786e-01, 2.0932e-01, 5.2481e-01, 1.3614e-01, 3.9688e-01],\n",
              "         [7.6527e-01, 3.8556e-01, 8.2039e-01, 3.7728e-01, 9.3307e-01,\n",
              "          7.8533e-01, 6.6845e-01, 6.2831e-01, 1.3695e-01, 1.4401e-01],\n",
              "         [1.4114e-01, 7.9237e-01, 7.0165e-02, 3.7281e-01, 5.8438e-01,\n",
              "          2.3309e-01, 1.5553e-01, 7.7308e-01, 2.1102e-01, 8.1653e-01],\n",
              "         [1.5551e-01, 4.2749e-01, 7.4894e-01, 4.6142e-02, 6.2089e-01,\n",
              "          3.1564e-01, 5.7069e-01, 6.2568e-01, 9.6564e-02, 1.6814e-01],\n",
              "         [6.2524e-02, 3.3032e-01, 1.7135e-01, 6.4416e-01, 1.6801e-01,\n",
              "          9.3860e-01, 7.8833e-01, 9.3148e-01, 9.6754e-01, 8.9690e-01],\n",
              "         [9.4023e-01, 5.3204e-01, 8.3228e-01, 1.2260e-01, 4.4147e-01,\n",
              "          8.1037e-01, 4.8808e-01, 3.6631e-01, 2.7204e-01, 4.2281e-01],\n",
              "         [5.8728e-01, 7.8008e-01, 3.8715e-01, 6.9848e-01, 8.0904e-01,\n",
              "          5.6028e-01, 6.2356e-01, 3.6717e-01, 7.3783e-01, 7.1375e-01]],\n",
              "\n",
              "        [[9.0148e-01, 5.5273e-02, 1.1972e-01, 8.8154e-01, 8.0902e-02,\n",
              "          9.6099e-01, 3.1755e-01, 1.8009e-01, 6.4189e-02, 6.0048e-01],\n",
              "         [5.4442e-01, 6.3570e-02, 6.5087e-01, 4.5843e-01, 5.8160e-02,\n",
              "          5.1789e-01, 8.0452e-01, 7.5331e-01, 4.2934e-01, 7.0211e-02],\n",
              "         [4.6621e-01, 8.1513e-01, 8.5985e-02, 1.9768e-01, 2.0498e-01,\n",
              "          3.7540e-01, 9.0556e-01, 1.3374e-01, 7.5056e-01, 1.9503e-01],\n",
              "         [5.8868e-01, 7.4603e-01, 6.7266e-01, 1.8932e-01, 4.0135e-01,\n",
              "          8.2028e-01, 7.4618e-02, 3.4780e-01, 7.4906e-01, 7.0516e-02],\n",
              "         [3.9435e-01, 8.7644e-01, 3.1986e-01, 8.1733e-01, 9.3586e-02,\n",
              "          8.5376e-01, 3.4040e-01, 4.9086e-01, 3.6134e-01, 1.3603e-01],\n",
              "         [3.3832e-01, 2.6387e-01, 9.6876e-01, 8.8237e-01, 5.3916e-01,\n",
              "          7.4077e-01, 2.5504e-02, 2.1097e-01, 4.6203e-01, 9.4993e-01],\n",
              "         [7.4147e-01, 8.7593e-01, 3.3513e-01, 6.5596e-01, 5.9738e-01,\n",
              "          1.7984e-02, 7.4172e-02, 2.4491e-02, 3.7546e-02, 2.5834e-01],\n",
              "         [7.2929e-01, 9.5400e-01, 7.5942e-01, 5.3239e-01, 4.8363e-01,\n",
              "          6.6436e-02, 2.7730e-01, 1.3411e-01, 2.5985e-01, 4.3851e-01],\n",
              "         [4.3411e-01, 6.1152e-01, 3.5223e-01, 8.7618e-01, 5.4558e-01,\n",
              "          2.2858e-02, 1.7904e-01, 4.9364e-01, 5.5642e-01, 6.2991e-01],\n",
              "         [4.8540e-01, 9.0925e-01, 3.2355e-01, 8.3899e-01, 9.1765e-01,\n",
              "          8.1330e-01, 6.4858e-01, 8.1198e-01, 7.8512e-01, 8.0194e-01]],\n",
              "\n",
              "        [[1.3341e-01, 3.7197e-01, 4.3327e-01, 9.3295e-02, 1.4421e-01,\n",
              "          2.2862e-01, 7.7158e-04, 3.9092e-01, 6.6172e-02, 7.1724e-01],\n",
              "         [8.9782e-01, 6.5390e-01, 1.7379e-01, 4.9886e-02, 1.7739e-02,\n",
              "          4.4318e-01, 5.6389e-01, 5.0210e-01, 3.6817e-01, 2.0750e-01],\n",
              "         [7.5653e-01, 5.4336e-01, 7.6737e-01, 7.3527e-01, 3.7757e-01,\n",
              "          9.4734e-01, 5.3814e-01, 6.7005e-01, 4.7630e-01, 7.7861e-01],\n",
              "         [9.5642e-01, 3.6979e-01, 6.7825e-01, 5.6831e-01, 3.7999e-01,\n",
              "          6.6646e-03, 1.3453e-01, 4.4044e-01, 1.3465e-01, 1.1625e-02],\n",
              "         [6.0940e-01, 9.2416e-01, 9.3034e-01, 4.8039e-01, 1.4673e-01,\n",
              "          5.3051e-01, 2.1404e-01, 2.6732e-01, 3.4954e-01, 4.0040e-01],\n",
              "         [6.0708e-01, 5.6221e-03, 1.6305e-01, 8.3772e-01, 5.9592e-01,\n",
              "          8.5979e-01, 7.3388e-02, 5.6902e-01, 6.0690e-01, 8.0415e-01],\n",
              "         [7.7507e-01, 7.8169e-01, 9.0425e-02, 3.3418e-01, 7.8907e-03,\n",
              "          7.1638e-01, 9.2638e-01, 5.4707e-01, 3.1989e-01, 9.6445e-01],\n",
              "         [3.8826e-01, 5.9290e-01, 8.2769e-01, 3.4627e-01, 3.9622e-01,\n",
              "          7.8703e-01, 9.8532e-01, 9.3055e-02, 9.7875e-01, 6.2649e-01],\n",
              "         [8.2495e-01, 7.2170e-01, 3.8678e-01, 6.9204e-01, 2.5980e-01,\n",
              "          1.4151e-01, 1.9603e-02, 9.1735e-01, 6.1990e-01, 3.0961e-01],\n",
              "         [8.5605e-01, 3.9488e-01, 3.9793e-01, 2.6453e-03, 3.5118e-01,\n",
              "          2.6392e-01, 8.2059e-01, 7.9899e-01, 4.0388e-01, 7.7828e-01]],\n",
              "\n",
              "        [[3.4530e-01, 3.7433e-01, 7.8416e-01, 7.9022e-01, 7.1617e-01,\n",
              "          5.0839e-01, 1.1146e-01, 1.6433e-01, 6.5831e-01, 3.7096e-01],\n",
              "         [1.9640e-01, 7.6181e-01, 8.0106e-01, 9.3422e-01, 3.4896e-01,\n",
              "          8.9152e-01, 9.5085e-02, 5.8769e-01, 1.1291e-01, 3.7184e-01],\n",
              "         [5.8630e-01, 2.9934e-01, 8.9780e-01, 1.4660e-01, 2.5111e-02,\n",
              "          5.9565e-01, 3.1401e-02, 3.0554e-01, 9.2320e-01, 2.8160e-01],\n",
              "         [2.2270e-02, 8.3429e-01, 4.6479e-01, 9.9205e-01, 4.3253e-01,\n",
              "          6.2420e-01, 6.7924e-02, 3.2357e-01, 5.9416e-01, 6.7300e-02],\n",
              "         [9.2515e-01, 6.2955e-01, 5.9783e-01, 2.4818e-01, 5.1437e-01,\n",
              "          2.8711e-01, 6.8127e-01, 9.9291e-01, 5.1649e-01, 1.3956e-01],\n",
              "         [7.3475e-01, 9.0191e-01, 4.7046e-01, 3.2367e-01, 7.2666e-01,\n",
              "          3.2278e-01, 6.2718e-01, 3.5113e-01, 7.3208e-01, 7.7479e-01],\n",
              "         [5.6439e-01, 8.5209e-01, 2.2280e-01, 1.9451e-01, 3.1255e-01,\n",
              "          9.6301e-01, 5.4136e-02, 7.9649e-01, 6.6402e-01, 3.8886e-01],\n",
              "         [7.1506e-01, 8.6274e-01, 7.5672e-01, 6.5032e-01, 1.0588e-01,\n",
              "          7.5598e-01, 8.7290e-01, 2.3929e-01, 9.8942e-01, 6.9012e-01],\n",
              "         [4.2244e-01, 6.3741e-01, 8.8769e-01, 4.1557e-01, 6.0486e-01,\n",
              "          9.7066e-01, 8.4508e-01, 5.3962e-01, 5.8352e-01, 9.5550e-01],\n",
              "         [6.6367e-01, 6.4351e-01, 3.2280e-01, 1.8024e-01, 8.4047e-01,\n",
              "          2.3103e-01, 4.4930e-01, 2.3015e-01, 6.4748e-01, 7.1353e-01]]])"
            ]
          },
          "metadata": {},
          "execution_count": 19
        }
      ]
    },
    {
      "cell_type": "code",
      "source": [
        "random_tensor = torch.rand(3,4)\n",
        "random_tensor"
      ],
      "metadata": {
        "colab": {
          "base_uri": "https://localhost:8080/"
        },
        "id": "Uuicx5laVxVc",
        "outputId": "7d708a8d-c034-406b-a58c-4d8e1703548d"
      },
      "execution_count": null,
      "outputs": [
        {
          "output_type": "execute_result",
          "data": {
            "text/plain": [
              "tensor([[0.2532, 0.0127, 0.4366, 0.4028],\n",
              "        [0.5788, 0.5941, 0.0324, 0.3726],\n",
              "        [0.6810, 0.2235, 0.6318, 0.6710]])"
            ]
          },
          "metadata": {},
          "execution_count": 20
        }
      ]
    },
    {
      "cell_type": "code",
      "source": [
        "random_tensor.ndim"
      ],
      "metadata": {
        "colab": {
          "base_uri": "https://localhost:8080/"
        },
        "id": "j1qMEKRkYM_u",
        "outputId": "7114d228-68c4-49d4-bbcc-7b3cbd76a99f"
      },
      "execution_count": null,
      "outputs": [
        {
          "output_type": "execute_result",
          "data": {
            "text/plain": [
              "2"
            ]
          },
          "metadata": {},
          "execution_count": 21
        }
      ]
    },
    {
      "cell_type": "code",
      "source": [
        "# Create a random tensor with similar shape to an image tensor\n",
        "\n",
        "random_image_size_tensor = torch.rand(size=(224,224,3)) #height, width, color channel #RGB\n",
        "random_image_size_tensor.ndim"
      ],
      "metadata": {
        "colab": {
          "base_uri": "https://localhost:8080/"
        },
        "id": "DJXOGQFHYmG4",
        "outputId": "b266f1e2-0972-4100-acfc-0f7aa08f2a27"
      },
      "execution_count": null,
      "outputs": [
        {
          "output_type": "execute_result",
          "data": {
            "text/plain": [
              "3"
            ]
          },
          "metadata": {},
          "execution_count": 22
        }
      ]
    },
    {
      "cell_type": "code",
      "source": [
        "random_image_size_tensor.shape"
      ],
      "metadata": {
        "colab": {
          "base_uri": "https://localhost:8080/"
        },
        "id": "gc0RgzqTZEAX",
        "outputId": "228434f1-a258-478c-f281-89ac82628631"
      },
      "execution_count": null,
      "outputs": [
        {
          "output_type": "execute_result",
          "data": {
            "text/plain": [
              "torch.Size([224, 224, 3])"
            ]
          },
          "metadata": {},
          "execution_count": 23
        }
      ]
    },
    {
      "cell_type": "markdown",
      "source": [
        "### Zeros and ones"
      ],
      "metadata": {
        "id": "Fuwm26uWZrG7"
      }
    },
    {
      "cell_type": "markdown",
      "source": [],
      "metadata": {
        "id": "xFDq1tS5ZrCd"
      }
    },
    {
      "cell_type": "code",
      "source": [
        "zeros = torch.zeros(3,4)"
      ],
      "metadata": {
        "id": "io8CdrqYZJV1"
      },
      "execution_count": null,
      "outputs": []
    },
    {
      "cell_type": "code",
      "source": [
        "zeros"
      ],
      "metadata": {
        "colab": {
          "base_uri": "https://localhost:8080/"
        },
        "id": "Uq5c0i44ZwcD",
        "outputId": "00f3ffe0-3c0f-4a51-a2d7-8d315e9d78da"
      },
      "execution_count": null,
      "outputs": [
        {
          "output_type": "execute_result",
          "data": {
            "text/plain": [
              "tensor([[0., 0., 0., 0.],\n",
              "        [0., 0., 0., 0.],\n",
              "        [0., 0., 0., 0.]])"
            ]
          },
          "metadata": {},
          "execution_count": 25
        }
      ]
    },
    {
      "cell_type": "code",
      "source": [
        "zeros*random_tensor"
      ],
      "metadata": {
        "colab": {
          "base_uri": "https://localhost:8080/"
        },
        "id": "I5eJESgrZztK",
        "outputId": "1dce4b6b-af3b-4c21-fd13-09a1da9f0fa1"
      },
      "execution_count": null,
      "outputs": [
        {
          "output_type": "execute_result",
          "data": {
            "text/plain": [
              "tensor([[0., 0., 0., 0.],\n",
              "        [0., 0., 0., 0.],\n",
              "        [0., 0., 0., 0.]])"
            ]
          },
          "metadata": {},
          "execution_count": 26
        }
      ]
    },
    {
      "cell_type": "code",
      "source": [
        "ones = torch.ones(3,4)"
      ],
      "metadata": {
        "id": "BF8W88yJZ4NI"
      },
      "execution_count": null,
      "outputs": []
    },
    {
      "cell_type": "code",
      "source": [
        "ones.dtype"
      ],
      "metadata": {
        "colab": {
          "base_uri": "https://localhost:8080/"
        },
        "id": "2BOO8xH3Z3i6",
        "outputId": "d5a0aa82-8b26-4636-9dae-e58625c91e0c"
      },
      "execution_count": null,
      "outputs": [
        {
          "output_type": "execute_result",
          "data": {
            "text/plain": [
              "torch.float32"
            ]
          },
          "metadata": {},
          "execution_count": 28
        }
      ]
    },
    {
      "cell_type": "markdown",
      "source": [
        "## Creating a range of tensors and tensors-like"
      ],
      "metadata": {
        "id": "hfAq-RaOaQoW"
      }
    },
    {
      "cell_type": "code",
      "source": [
        "one_to_ten = torch.arange(1,11)  #start,end,step\n",
        "one_to_ten"
      ],
      "metadata": {
        "colab": {
          "base_uri": "https://localhost:8080/"
        },
        "id": "f0AutptGZ9jX",
        "outputId": "ccf29b83-53f6-4a05-c862-3b350388cb84"
      },
      "execution_count": null,
      "outputs": [
        {
          "output_type": "execute_result",
          "data": {
            "text/plain": [
              "tensor([ 1,  2,  3,  4,  5,  6,  7,  8,  9, 10])"
            ]
          },
          "metadata": {},
          "execution_count": 29
        }
      ]
    },
    {
      "cell_type": "code",
      "source": [
        "#creating tensors-like\n",
        "ten_zeros = torch.zeros_like(input=one_to_ten)\n",
        "ten_zeros"
      ],
      "metadata": {
        "colab": {
          "base_uri": "https://localhost:8080/"
        },
        "id": "yH5qza8babuJ",
        "outputId": "d96736d5-ef2c-4979-f43b-17ec2ff023a7"
      },
      "execution_count": null,
      "outputs": [
        {
          "output_type": "execute_result",
          "data": {
            "text/plain": [
              "tensor([0, 0, 0, 0, 0, 0, 0, 0, 0, 0])"
            ]
          },
          "metadata": {},
          "execution_count": 30
        }
      ]
    },
    {
      "cell_type": "markdown",
      "source": [
        "### Tensor datatype"
      ],
      "metadata": {
        "id": "ECyAgEGgOt2M"
      }
    },
    {
      "cell_type": "code",
      "source": [
        "float_32_tensor = torch.tensor([3.0,6.0,9.0], dtype=None, #default remains float32\n",
        "                               device = None, #what device your tensor is on\n",
        "                               requires_grad = False) # whether or not to track gradients"
      ],
      "metadata": {
        "id": "PcE67lFkbFa5"
      },
      "execution_count": null,
      "outputs": []
    },
    {
      "cell_type": "code",
      "source": [
        "float_32_tensor.dtype"
      ],
      "metadata": {
        "colab": {
          "base_uri": "https://localhost:8080/"
        },
        "id": "nz5yG9XOO_Le",
        "outputId": "7339908e-bc05-42ee-c1a5-0bf3d85a54bf"
      },
      "execution_count": null,
      "outputs": [
        {
          "output_type": "execute_result",
          "data": {
            "text/plain": [
              "torch.float32"
            ]
          },
          "metadata": {},
          "execution_count": 36
        }
      ]
    },
    {
      "cell_type": "markdown",
      "source": [
        "**NOTE**  datatype is one of the most came across errors in tensors\n",
        "\n",
        "[other 2 are shape and device]\n",
        "\n",
        "32 bit tensor is full precision\n",
        "\n",
        "16 bit is half precision\n",
        "\n",
        "64 bit is more precision\n",
        "\n",
        "it represents how much detail one cna hold it"
      ],
      "metadata": {
        "id": "6ZvkKEGUPmNm"
      }
    },
    {
      "cell_type": "code",
      "source": [
        "#converting float 32 tensor to float 16 tensor\n",
        "\n",
        "float_16_tensor = float_32_tensor.type(torch.float16)\n",
        "float_16_tensor"
      ],
      "metadata": {
        "colab": {
          "base_uri": "https://localhost:8080/"
        },
        "id": "quBxw9ZfPA8Q",
        "outputId": "89930248-9d2e-4f17-a68a-7495cf3c8882"
      },
      "execution_count": null,
      "outputs": [
        {
          "output_type": "execute_result",
          "data": {
            "text/plain": [
              "tensor([3., 6., 9.], dtype=torch.float16)"
            ]
          },
          "metadata": {},
          "execution_count": 37
        }
      ]
    },
    {
      "cell_type": "code",
      "source": [
        "(float_16_tensor * float_32_tensor).dtype"
      ],
      "metadata": {
        "colab": {
          "base_uri": "https://localhost:8080/"
        },
        "id": "Ro1UPCmIQ6R2",
        "outputId": "2b4b4aaf-9312-4037-ef6f-5dab8296d32a"
      },
      "execution_count": null,
      "outputs": [
        {
          "output_type": "execute_result",
          "data": {
            "text/plain": [
              "torch.float32"
            ]
          },
          "metadata": {},
          "execution_count": 38
        }
      ]
    },
    {
      "cell_type": "code",
      "source": [
        "int_32_tensor = torch.tensor([3,6,9], dtype = torch.int32)\n",
        "int_32_tensor"
      ],
      "metadata": {
        "colab": {
          "base_uri": "https://localhost:8080/"
        },
        "id": "0Uh4CZWoRMgP",
        "outputId": "4be7121b-e2fd-48b4-edd3-bab71de7dc70"
      },
      "execution_count": null,
      "outputs": [
        {
          "output_type": "execute_result",
          "data": {
            "text/plain": [
              "tensor([3, 6, 9], dtype=torch.int32)"
            ]
          },
          "metadata": {},
          "execution_count": 39
        }
      ]
    },
    {
      "cell_type": "code",
      "source": [
        "(int_32_tensor * float_32_tensor).dtype"
      ],
      "metadata": {
        "colab": {
          "base_uri": "https://localhost:8080/"
        },
        "id": "UOwgL8UWRlVm",
        "outputId": "15e4c416-d4ff-4da7-e200-c5c61f63b3ea"
      },
      "execution_count": null,
      "outputs": [
        {
          "output_type": "execute_result",
          "data": {
            "text/plain": [
              "torch.float32"
            ]
          },
          "metadata": {},
          "execution_count": 40
        }
      ]
    },
    {
      "cell_type": "markdown",
      "source": [
        "## getting information from tensors - attributes\n",
        "\n",
        "tensors not right type - tensor.dtype to check\n",
        "\n",
        "not right shape - tensor.shape\n",
        "\n",
        "not the right device - tensor.device"
      ],
      "metadata": {
        "id": "EEd_L6ReSIqg"
      }
    },
    {
      "cell_type": "code",
      "source": [
        "some_tensor = torch.rand(3,4)\n",
        "some_tensor"
      ],
      "metadata": {
        "colab": {
          "base_uri": "https://localhost:8080/"
        },
        "id": "9k7wRFUcRsQK",
        "outputId": "3a431bdb-0c87-48e4-b247-1efba66d45a4"
      },
      "execution_count": null,
      "outputs": [
        {
          "output_type": "execute_result",
          "data": {
            "text/plain": [
              "tensor([[0.9923, 0.5180, 0.7686, 0.4960],\n",
              "        [0.6767, 0.0811, 0.0402, 0.5292],\n",
              "        [0.9716, 0.3867, 0.1174, 0.1464]])"
            ]
          },
          "metadata": {},
          "execution_count": 41
        }
      ]
    },
    {
      "cell_type": "code",
      "source": [
        "## find details about the tensor\n",
        "print(f\"Datatype of tensor: {some_tensor.dtype}\")\n",
        "print(f\"Shape of tensor:{some_tensor.shape}\")\n",
        "print(f\"Device our tensor is on:{some_tensor.device}\")"
      ],
      "metadata": {
        "colab": {
          "base_uri": "https://localhost:8080/"
        },
        "id": "U_cd5ll2SbVP",
        "outputId": "5922c980-059f-48ad-9a9f-b9dfa0157792"
      },
      "execution_count": null,
      "outputs": [
        {
          "output_type": "stream",
          "name": "stdout",
          "text": [
            "Datatype of tensor: torch.float32\n",
            "Shape of tensor:torch.Size([3, 4])\n",
            "Device our tensor is on:cpu\n"
          ]
        }
      ]
    },
    {
      "cell_type": "markdown",
      "source": [
        "###Manipulating tensors (tensor operations)\n",
        "\n",
        "Tensor operations include:\n",
        "* addition\n",
        "* subtraction\n",
        "* multiplication (element-wise)\n",
        "* division\n",
        "* matrix multiplication"
      ],
      "metadata": {
        "id": "CxkjTcChTrD1"
      }
    },
    {
      "cell_type": "code",
      "source": [
        "# Create a tensor\n",
        "tensor1 = torch.tensor([1,2,3,])\n",
        "tensor1+10"
      ],
      "metadata": {
        "colab": {
          "base_uri": "https://localhost:8080/"
        },
        "id": "RfcZR8aXTXh3",
        "outputId": "e28edae1-b16f-43cb-8cf4-4786e87ec803"
      },
      "execution_count": null,
      "outputs": [
        {
          "output_type": "execute_result",
          "data": {
            "text/plain": [
              "tensor([11, 12, 13])"
            ]
          },
          "metadata": {},
          "execution_count": 43
        }
      ]
    },
    {
      "cell_type": "code",
      "source": [
        "#multiply\n",
        "tensor1*10"
      ],
      "metadata": {
        "colab": {
          "base_uri": "https://localhost:8080/"
        },
        "id": "8PvnTPPgUMfU",
        "outputId": "1fc890f0-c5de-456c-dbb1-615ff0a36bbd"
      },
      "execution_count": null,
      "outputs": [
        {
          "output_type": "execute_result",
          "data": {
            "text/plain": [
              "tensor([10, 20, 30])"
            ]
          },
          "metadata": {},
          "execution_count": 44
        }
      ]
    },
    {
      "cell_type": "code",
      "source": [
        "tensor1- 10"
      ],
      "metadata": {
        "colab": {
          "base_uri": "https://localhost:8080/"
        },
        "id": "EKPEcD3XUWE3",
        "outputId": "791f806a-a1f2-4856-bf57-6a4d828aa128"
      },
      "execution_count": null,
      "outputs": [
        {
          "output_type": "execute_result",
          "data": {
            "text/plain": [
              "tensor([-9, -8, -7])"
            ]
          },
          "metadata": {},
          "execution_count": 45
        }
      ]
    },
    {
      "cell_type": "code",
      "source": [
        "tensor1/12"
      ],
      "metadata": {
        "colab": {
          "base_uri": "https://localhost:8080/"
        },
        "id": "9LX99CxKUhim",
        "outputId": "a5cfdad1-51eb-4e3f-fe5c-def2ab9eacea"
      },
      "execution_count": null,
      "outputs": [
        {
          "output_type": "execute_result",
          "data": {
            "text/plain": [
              "tensor([0.0833, 0.1667, 0.2500])"
            ]
          },
          "metadata": {},
          "execution_count": 46
        }
      ]
    },
    {
      "cell_type": "code",
      "source": [
        "## trying out PyTorch in-built function\n",
        "## generally used for specific reasons, usually we work with operators\n",
        "torch.mul(tensor1,10)"
      ],
      "metadata": {
        "colab": {
          "base_uri": "https://localhost:8080/"
        },
        "id": "H_cN3Z3nUlHE",
        "outputId": "e631248b-4d7a-403c-e2f9-583e07473b6f"
      },
      "execution_count": null,
      "outputs": [
        {
          "output_type": "execute_result",
          "data": {
            "text/plain": [
              "tensor([10, 20, 30])"
            ]
          },
          "metadata": {},
          "execution_count": 47
        }
      ]
    },
    {
      "cell_type": "code",
      "source": [
        "torch.add(tensor1,2)"
      ],
      "metadata": {
        "colab": {
          "base_uri": "https://localhost:8080/"
        },
        "id": "gfPctbGuUvjb",
        "outputId": "0dcbc3a2-b21d-4de8-f26e-5725746f3e1f"
      },
      "execution_count": null,
      "outputs": [
        {
          "output_type": "execute_result",
          "data": {
            "text/plain": [
              "tensor([3, 4, 5])"
            ]
          },
          "metadata": {},
          "execution_count": 48
        }
      ]
    },
    {
      "cell_type": "markdown",
      "source": [
        "## two ways of preforming multiplication in neural networks and deep learning:\n",
        "\n",
        "1. element-wise\n",
        "2. dot product or the matrix multiplication\n"
      ],
      "metadata": {
        "id": "cKRL-N09VH0-"
      }
    },
    {
      "cell_type": "code",
      "source": [
        "#elementwise\n",
        "print(tensor1, '*', tensor1)\n",
        "print(f\"Equals: {tensor1*tensor1}\")"
      ],
      "metadata": {
        "colab": {
          "base_uri": "https://localhost:8080/"
        },
        "id": "9eBLtny_U8SU",
        "outputId": "055e9d95-cc4b-4c4a-fb93-6dc300a79c05"
      },
      "execution_count": null,
      "outputs": [
        {
          "output_type": "stream",
          "name": "stdout",
          "text": [
            "tensor([1, 2, 3]) * tensor([1, 2, 3])\n",
            "Equals: tensor([1, 4, 9])\n"
          ]
        }
      ]
    },
    {
      "cell_type": "code",
      "source": [
        "#Matrix multiplication\n",
        "torch.matmul(tensor1,tensor1)"
      ],
      "metadata": {
        "colab": {
          "base_uri": "https://localhost:8080/"
        },
        "id": "418OKUJSV4bv",
        "outputId": "67492033-60b0-44be-8060-6b94ba0465c2"
      },
      "execution_count": null,
      "outputs": [
        {
          "output_type": "execute_result",
          "data": {
            "text/plain": [
              "tensor(14)"
            ]
          },
          "metadata": {},
          "execution_count": 50
        }
      ]
    },
    {
      "cell_type": "code",
      "source": [
        "tensor1 @ tensor1"
      ],
      "metadata": {
        "colab": {
          "base_uri": "https://localhost:8080/"
        },
        "id": "eJqGhBAXkUN4",
        "outputId": "d363d865-5f5d-428f-bd9c-b9753593919c"
      },
      "execution_count": null,
      "outputs": [
        {
          "output_type": "execute_result",
          "data": {
            "text/plain": [
              "tensor(14)"
            ]
          },
          "metadata": {},
          "execution_count": 51
        }
      ]
    },
    {
      "cell_type": "code",
      "source": [
        "%%time\n",
        "value = 0\n",
        "for i in range(len(tensor1)):\n",
        "  value += tensor1[i] * tensor1[i]\n",
        "print(value)"
      ],
      "metadata": {
        "colab": {
          "base_uri": "https://localhost:8080/"
        },
        "id": "dag0WNkUWIWF",
        "outputId": "5f3a650a-c04d-4d3a-dca7-38040ff7d875"
      },
      "execution_count": null,
      "outputs": [
        {
          "output_type": "stream",
          "name": "stdout",
          "text": [
            "tensor(14)\n",
            "CPU times: user 1.96 ms, sys: 0 ns, total: 1.96 ms\n",
            "Wall time: 2.18 ms\n"
          ]
        }
      ]
    },
    {
      "cell_type": "code",
      "source": [
        "%%time\n",
        "torch.matmul(tensor1,tensor1)"
      ],
      "metadata": {
        "colab": {
          "base_uri": "https://localhost:8080/"
        },
        "id": "vxKUFyt_jg7B",
        "outputId": "4c5d570c-72bf-4e88-8a09-8cb500d2efec"
      },
      "execution_count": null,
      "outputs": [
        {
          "output_type": "stream",
          "name": "stdout",
          "text": [
            "CPU times: user 1.32 ms, sys: 0 ns, total: 1.32 ms\n",
            "Wall time: 2.45 ms\n"
          ]
        },
        {
          "output_type": "execute_result",
          "data": {
            "text/plain": [
              "tensor(14)"
            ]
          },
          "metadata": {},
          "execution_count": 53
        }
      ]
    },
    {
      "cell_type": "markdown",
      "source": [
        "### One of the most common errors in DL: shape error"
      ],
      "metadata": {
        "id": "g1SheoQCkFPX"
      }
    },
    {
      "cell_type": "code",
      "source": [
        "# Shapes for matrix multiplication\n",
        "\n",
        "tensor_a = torch.tensor([[1,2],\n",
        "                         [3,4],\n",
        "                         [5,6]])\n",
        "\n",
        "tensor_b = torch.tensor([[7,8],\n",
        "                         [8,11],\n",
        "                         [9,12]])\n",
        "\n",
        "#torch.mm is an alias for torch.matmul\n",
        "torch.matmul(tensor_a,tensor_b)"
      ],
      "metadata": {
        "colab": {
          "base_uri": "https://localhost:8080/",
          "height": 176
        },
        "id": "u3Gwsiw8joCI",
        "outputId": "d68c97a4-f989-4689-906b-7e5baa8a0396"
      },
      "execution_count": null,
      "outputs": [
        {
          "output_type": "error",
          "ename": "RuntimeError",
          "evalue": "mat1 and mat2 shapes cannot be multiplied (3x2 and 3x2)",
          "traceback": [
            "\u001b[0;31m---------------------------------------------------------------------------\u001b[0m",
            "\u001b[0;31mRuntimeError\u001b[0m                              Traceback (most recent call last)",
            "\u001b[0;32m<ipython-input-55-a19a86eaeced>\u001b[0m in \u001b[0;36m<cell line: 12>\u001b[0;34m()\u001b[0m\n\u001b[1;32m     10\u001b[0m \u001b[0;34m\u001b[0m\u001b[0m\n\u001b[1;32m     11\u001b[0m \u001b[0;31m#torch.mm is an alias for torch.matmul\u001b[0m\u001b[0;34m\u001b[0m\u001b[0;34m\u001b[0m\u001b[0m\n\u001b[0;32m---> 12\u001b[0;31m \u001b[0mtorch\u001b[0m\u001b[0;34m.\u001b[0m\u001b[0mmatmul\u001b[0m\u001b[0;34m(\u001b[0m\u001b[0mtensor_a\u001b[0m\u001b[0;34m,\u001b[0m\u001b[0mtensor_b\u001b[0m\u001b[0;34m)\u001b[0m\u001b[0;34m\u001b[0m\u001b[0;34m\u001b[0m\u001b[0m\n\u001b[0m",
            "\u001b[0;31mRuntimeError\u001b[0m: mat1 and mat2 shapes cannot be multiplied (3x2 and 3x2)"
          ]
        }
      ]
    },
    {
      "cell_type": "markdown",
      "source": [
        "To fix our shape issues, we can manipulate the tensor by transposing it"
      ],
      "metadata": {
        "id": "CjitbOA_lzUs"
      }
    },
    {
      "cell_type": "code",
      "source": [
        "tensor_b.T"
      ],
      "metadata": {
        "colab": {
          "base_uri": "https://localhost:8080/"
        },
        "id": "L5A1KNZ-lyYo",
        "outputId": "bf6679f8-da17-4046-f2da-e099f9f56218"
      },
      "execution_count": null,
      "outputs": [
        {
          "output_type": "execute_result",
          "data": {
            "text/plain": [
              "tensor([[ 7,  8,  9],\n",
              "        [ 8, 11, 12]])"
            ]
          },
          "metadata": {},
          "execution_count": 56
        }
      ]
    },
    {
      "cell_type": "code",
      "source": [
        "tensor_b.T.shape"
      ],
      "metadata": {
        "colab": {
          "base_uri": "https://localhost:8080/"
        },
        "id": "xzYw_urXl-ya",
        "outputId": "ca5f8df3-07d6-4124-fd2c-c92d0c833929"
      },
      "execution_count": null,
      "outputs": [
        {
          "output_type": "execute_result",
          "data": {
            "text/plain": [
              "torch.Size([2, 3])"
            ]
          },
          "metadata": {},
          "execution_count": 57
        }
      ]
    },
    {
      "cell_type": "code",
      "source": [
        "torch.mm(tensor_a,tensor_b.T)"
      ],
      "metadata": {
        "colab": {
          "base_uri": "https://localhost:8080/"
        },
        "id": "Ao9Y0BVAmFAq",
        "outputId": "6f329a7a-8a3b-4ca4-e376-be2ee0c23b0a"
      },
      "execution_count": null,
      "outputs": [
        {
          "output_type": "execute_result",
          "data": {
            "text/plain": [
              "tensor([[ 23,  30,  33],\n",
              "        [ 53,  68,  75],\n",
              "        [ 83, 106, 117]])"
            ]
          },
          "metadata": {},
          "execution_count": 58
        }
      ]
    },
    {
      "cell_type": "markdown",
      "source": [
        "## Finding the min, max, mean, sum, etc (tensor aggregation)\n"
      ],
      "metadata": {
        "id": "-pf69EYonjNv"
      }
    },
    {
      "cell_type": "code",
      "source": [
        "x = torch.arange(1,100,10)"
      ],
      "metadata": {
        "id": "35lP09SbmXqW"
      },
      "execution_count": null,
      "outputs": []
    },
    {
      "cell_type": "code",
      "source": [
        "x"
      ],
      "metadata": {
        "colab": {
          "base_uri": "https://localhost:8080/"
        },
        "id": "8ukdpPTinyWO",
        "outputId": "af9900e5-c485-495a-a142-c0e2c99af9af"
      },
      "execution_count": null,
      "outputs": [
        {
          "output_type": "execute_result",
          "data": {
            "text/plain": [
              "tensor([ 0, 10, 20, 30, 40, 50, 60, 70, 80, 90])"
            ]
          },
          "metadata": {},
          "execution_count": 60
        }
      ]
    },
    {
      "cell_type": "code",
      "source": [
        "torch.max(x), x.max()"
      ],
      "metadata": {
        "colab": {
          "base_uri": "https://localhost:8080/"
        },
        "id": "Po2WEn3hny6U",
        "outputId": "ad2eb0f0-dead-40ec-8a04-93ecdb17dd45"
      },
      "execution_count": null,
      "outputs": [
        {
          "output_type": "execute_result",
          "data": {
            "text/plain": [
              "(tensor(90), tensor(90))"
            ]
          },
          "metadata": {},
          "execution_count": 61
        }
      ]
    },
    {
      "cell_type": "code",
      "source": [
        "torch.mean(x)"
      ],
      "metadata": {
        "colab": {
          "base_uri": "https://localhost:8080/",
          "height": 159
        },
        "id": "mdaMRWb6n3uO",
        "outputId": "0d2e9a5a-9de3-4e60-f090-e8381a67b5e0"
      },
      "execution_count": null,
      "outputs": [
        {
          "output_type": "error",
          "ename": "RuntimeError",
          "evalue": "mean(): could not infer output dtype. Input dtype must be either a floating point or complex dtype. Got: Long",
          "traceback": [
            "\u001b[0;31m---------------------------------------------------------------------------\u001b[0m",
            "\u001b[0;31mRuntimeError\u001b[0m                              Traceback (most recent call last)",
            "\u001b[0;32m<ipython-input-62-455868396db1>\u001b[0m in \u001b[0;36m<cell line: 1>\u001b[0;34m()\u001b[0m\n\u001b[0;32m----> 1\u001b[0;31m \u001b[0mtorch\u001b[0m\u001b[0;34m.\u001b[0m\u001b[0mmean\u001b[0m\u001b[0;34m(\u001b[0m\u001b[0mx\u001b[0m\u001b[0;34m)\u001b[0m\u001b[0;34m\u001b[0m\u001b[0;34m\u001b[0m\u001b[0m\n\u001b[0m",
            "\u001b[0;31mRuntimeError\u001b[0m: mean(): could not infer output dtype. Input dtype must be either a floating point or complex dtype. Got: Long"
          ]
        }
      ]
    },
    {
      "cell_type": "code",
      "source": [
        "torch.mean(x.type(torch.float32))"
      ],
      "metadata": {
        "colab": {
          "base_uri": "https://localhost:8080/"
        },
        "id": "w92Exblun9hl",
        "outputId": "275d2ba0-5497-4ecc-de38-3fb77e1c420e"
      },
      "execution_count": null,
      "outputs": [
        {
          "output_type": "execute_result",
          "data": {
            "text/plain": [
              "tensor(45.)"
            ]
          },
          "metadata": {},
          "execution_count": 63
        }
      ]
    },
    {
      "cell_type": "code",
      "source": [
        "torch.mean(x.type(torch.float32)), x.type(torch.float32).mean()"
      ],
      "metadata": {
        "colab": {
          "base_uri": "https://localhost:8080/"
        },
        "id": "Sv0Zb12voNti",
        "outputId": "5c7f7fb1-5fbe-4e12-dde4-f65eec88ebce"
      },
      "execution_count": null,
      "outputs": [
        {
          "output_type": "execute_result",
          "data": {
            "text/plain": [
              "(tensor(45.), tensor(45.))"
            ]
          },
          "metadata": {},
          "execution_count": 64
        }
      ]
    },
    {
      "cell_type": "code",
      "source": [
        "torch.sum(x), x.sum()"
      ],
      "metadata": {
        "colab": {
          "base_uri": "https://localhost:8080/"
        },
        "id": "zFmGYXL-ogHJ",
        "outputId": "cd423217-bbdc-45e0-f78c-4809565a1bf9"
      },
      "execution_count": null,
      "outputs": [
        {
          "output_type": "execute_result",
          "data": {
            "text/plain": [
              "(tensor(450), tensor(450))"
            ]
          },
          "metadata": {},
          "execution_count": 65
        }
      ]
    },
    {
      "cell_type": "code",
      "source": [
        "x"
      ],
      "metadata": {
        "colab": {
          "base_uri": "https://localhost:8080/"
        },
        "id": "bwtVuperolbT",
        "outputId": "4acdf3b4-fa73-4041-e75a-ad65339e6271"
      },
      "execution_count": null,
      "outputs": [
        {
          "output_type": "execute_result",
          "data": {
            "text/plain": [
              "tensor([ 1, 11, 21, 31, 41, 51, 61, 71, 81, 91])"
            ]
          },
          "metadata": {},
          "execution_count": 68
        }
      ]
    },
    {
      "cell_type": "code",
      "source": [
        "x.argmin(), x.argmax()"
      ],
      "metadata": {
        "colab": {
          "base_uri": "https://localhost:8080/"
        },
        "id": "JbxKEL2-Tjg_",
        "outputId": "147cc234-f9f3-41b0-aaa6-243569101560"
      },
      "execution_count": null,
      "outputs": [
        {
          "output_type": "execute_result",
          "data": {
            "text/plain": [
              "(tensor(0), tensor(9))"
            ]
          },
          "metadata": {},
          "execution_count": 70
        }
      ]
    },
    {
      "cell_type": "markdown",
      "source": [
        "#reshaping, stacking, squeezing and unsqueezing tensors\n",
        "\n",
        "* reshaping - reshape an input tensor to a defined shape\n",
        "* view - return a view of an input tensor of certain shape but keep the same memory as the original tensor\n",
        "* stacking - combine multiple tensors on top of each other (vstack) orside by side (hstack)\n",
        "* squeeze - removes all '1' dimensions from tensors\n",
        "* unsqueeze - add a '1' dimension to a target tensor\n",
        "* permute - return a view of the input with the dimensions permuted (swapped) in a certain way"
      ],
      "metadata": {
        "id": "BN11ADpdUG1N"
      }
    },
    {
      "cell_type": "code",
      "source": [
        "#lets create a tensor\n",
        "import torch\n",
        "x = torch.arange(1.,10.)\n",
        "x, x.shape"
      ],
      "metadata": {
        "colab": {
          "base_uri": "https://localhost:8080/"
        },
        "id": "rm0LfjB1TsE3",
        "outputId": "10965474-fc56-41e9-825b-07044e5b1ac7"
      },
      "execution_count": null,
      "outputs": [
        {
          "output_type": "execute_result",
          "data": {
            "text/plain": [
              "(tensor([1., 2., 3., 4., 5., 6., 7., 8., 9.]), torch.Size([9]))"
            ]
          },
          "metadata": {},
          "execution_count": 71
        }
      ]
    },
    {
      "cell_type": "code",
      "source": [
        "x_reshaped = x.reshape(9,1)\n",
        "x_reshaped ,x_reshaped.shape"
      ],
      "metadata": {
        "colab": {
          "base_uri": "https://localhost:8080/"
        },
        "id": "3J2iKESMVT6y",
        "outputId": "933b0e39-b9ec-475e-9aa1-2a98d57e44f0"
      },
      "execution_count": null,
      "outputs": [
        {
          "output_type": "execute_result",
          "data": {
            "text/plain": [
              "(tensor([[1.],\n",
              "         [2.],\n",
              "         [3.],\n",
              "         [4.],\n",
              "         [5.],\n",
              "         [6.],\n",
              "         [7.],\n",
              "         [8.],\n",
              "         [9.]]),\n",
              " torch.Size([9, 1]))"
            ]
          },
          "metadata": {},
          "execution_count": 75
        }
      ]
    },
    {
      "cell_type": "code",
      "source": [
        "x2 = torch.arange(1.,13.)\n",
        "x2_reshaped = x2.reshape(3,4)\n",
        "x2_reshaped"
      ],
      "metadata": {
        "colab": {
          "base_uri": "https://localhost:8080/"
        },
        "id": "IKTuetstVoW7",
        "outputId": "31ac6b6e-6134-461a-faac-7c3c2cd52a44"
      },
      "execution_count": null,
      "outputs": [
        {
          "output_type": "execute_result",
          "data": {
            "text/plain": [
              "tensor([[ 1.,  2.,  3.,  4.],\n",
              "        [ 5.,  6.,  7.,  8.],\n",
              "        [ 9., 10., 11., 12.]])"
            ]
          },
          "metadata": {},
          "execution_count": 77
        }
      ]
    },
    {
      "cell_type": "code",
      "source": [
        "#change the view\n",
        "\n",
        "#changing z changes x, as they share the same memory\n",
        "\n",
        "z = x.view(1,9)\n",
        "z,z.shape"
      ],
      "metadata": {
        "colab": {
          "base_uri": "https://localhost:8080/"
        },
        "id": "yPkmIFf9WEoC",
        "outputId": "db2410a6-1725-4314-dc5e-f3a4f52e4192"
      },
      "execution_count": null,
      "outputs": [
        {
          "output_type": "execute_result",
          "data": {
            "text/plain": [
              "(tensor([[1., 2., 3., 4., 5., 6., 7., 8., 9.]]), torch.Size([1, 9]))"
            ]
          },
          "metadata": {},
          "execution_count": 79
        }
      ]
    },
    {
      "cell_type": "code",
      "source": [
        "z[:,0] = 5\n",
        "z,x"
      ],
      "metadata": {
        "colab": {
          "base_uri": "https://localhost:8080/"
        },
        "id": "waXFc8OWWMLK",
        "outputId": "93b0d004-18b1-4856-9745-9a011f6a2957"
      },
      "execution_count": null,
      "outputs": [
        {
          "output_type": "execute_result",
          "data": {
            "text/plain": [
              "(tensor([[5., 2., 3., 4., 5., 6., 7., 8., 9.]]),\n",
              " tensor([5., 2., 3., 4., 5., 6., 7., 8., 9.]))"
            ]
          },
          "metadata": {},
          "execution_count": 80
        }
      ]
    },
    {
      "cell_type": "code",
      "source": [
        "x_stacked = torch.stack([x,x,x,x],dim=0)"
      ],
      "metadata": {
        "id": "53WZm3p4XnB1"
      },
      "execution_count": null,
      "outputs": []
    },
    {
      "cell_type": "code",
      "source": [
        "x_stacked.ndim"
      ],
      "metadata": {
        "colab": {
          "base_uri": "https://localhost:8080/"
        },
        "id": "NHyhX-4MXw35",
        "outputId": "e91e005e-a9ed-4a50-9e16-a9a44ca05427"
      },
      "execution_count": null,
      "outputs": [
        {
          "output_type": "execute_result",
          "data": {
            "text/plain": [
              "2"
            ]
          },
          "metadata": {},
          "execution_count": 84
        }
      ]
    },
    {
      "cell_type": "code",
      "source": [
        "tensor1 = torch.tensor([1, 2, 3])\n",
        "tensor2 = torch.tensor([4, 5, 6])\n",
        "\n",
        "stacked_tensor_dim0 = torch.stack([tensor1, tensor2], dim=0)  # Stack along first dimension\n",
        "# stacked_tensor_dim0: tensor([[1, 2, 3],\n",
        "#                             [4, 5, 6]])\n",
        "\n",
        "stacked_tensor_dim1 = torch.stack([tensor1, tensor2], dim=1)  # Stack along second dimension\n",
        "# stacked_tensor_dim1: tensor([[1, 4],\n",
        "#                             [2, 5],\n",
        "#                             [3, 6]])"
      ],
      "metadata": {
        "id": "riU4MR2yXyxN"
      },
      "execution_count": null,
      "outputs": []
    },
    {
      "cell_type": "code",
      "source": [
        "##squeeze()\n",
        "\n",
        "x_reshaped, x_reshaped.shape"
      ],
      "metadata": {
        "colab": {
          "base_uri": "https://localhost:8080/"
        },
        "id": "zhh6ajhdYgCs",
        "outputId": "98e6f7ad-36ba-495d-95d2-702590b415f3"
      },
      "execution_count": null,
      "outputs": [
        {
          "output_type": "execute_result",
          "data": {
            "text/plain": [
              "(tensor([[5.],\n",
              "         [2.],\n",
              "         [3.],\n",
              "         [4.],\n",
              "         [5.],\n",
              "         [6.],\n",
              "         [7.],\n",
              "         [8.],\n",
              "         [9.]]),\n",
              " torch.Size([9, 1]))"
            ]
          },
          "metadata": {},
          "execution_count": 88
        }
      ]
    },
    {
      "cell_type": "code",
      "source": [
        "x_reshaped.squeeze()"
      ],
      "metadata": {
        "colab": {
          "base_uri": "https://localhost:8080/"
        },
        "id": "GYCA-L7sYwyT",
        "outputId": "a914b6af-de46-46c9-fd6a-a45b20663bae"
      },
      "execution_count": null,
      "outputs": [
        {
          "output_type": "execute_result",
          "data": {
            "text/plain": [
              "tensor([5., 2., 3., 4., 5., 6., 7., 8., 9.])"
            ]
          },
          "metadata": {},
          "execution_count": 89
        }
      ]
    },
    {
      "cell_type": "code",
      "source": [
        "x_reshaped.squeeze().shape"
      ],
      "metadata": {
        "colab": {
          "base_uri": "https://localhost:8080/"
        },
        "id": "XhNI4pEsY53o",
        "outputId": "321bea59-6548-4947-fc43-2f45e3be367c"
      },
      "execution_count": null,
      "outputs": [
        {
          "output_type": "execute_result",
          "data": {
            "text/plain": [
              "torch.Size([9])"
            ]
          },
          "metadata": {},
          "execution_count": 90
        }
      ]
    },
    {
      "cell_type": "code",
      "source": [
        "x_reshaped.unsqueeze(dim=0)"
      ],
      "metadata": {
        "colab": {
          "base_uri": "https://localhost:8080/"
        },
        "id": "6sS8cyaEZCoT",
        "outputId": "4ceae164-189f-495b-8e99-d4bd73b658a0"
      },
      "execution_count": null,
      "outputs": [
        {
          "output_type": "execute_result",
          "data": {
            "text/plain": [
              "tensor([[[5.],\n",
              "         [2.],\n",
              "         [3.],\n",
              "         [4.],\n",
              "         [5.],\n",
              "         [6.],\n",
              "         [7.],\n",
              "         [8.],\n",
              "         [9.]]])"
            ]
          },
          "metadata": {},
          "execution_count": 93
        }
      ]
    },
    {
      "cell_type": "code",
      "source": [
        "x_reshaped.unsqueeze(dim=0).shape"
      ],
      "metadata": {
        "colab": {
          "base_uri": "https://localhost:8080/"
        },
        "id": "TcyjxViqZUxU",
        "outputId": "5491d5c4-f404-40cb-e181-ab4a29ceb1d0"
      },
      "execution_count": null,
      "outputs": [
        {
          "output_type": "execute_result",
          "data": {
            "text/plain": [
              "torch.Size([1, 9, 1])"
            ]
          },
          "metadata": {},
          "execution_count": 94
        }
      ]
    },
    {
      "cell_type": "code",
      "source": [
        "x_reshaped.unsqueeze(dim=1),x_reshaped.unsqueeze(dim=1).shape"
      ],
      "metadata": {
        "colab": {
          "base_uri": "https://localhost:8080/"
        },
        "id": "dDTb9gVfZjOz",
        "outputId": "db25e26a-6f1f-4c17-cd0c-0f069a8dfc77"
      },
      "execution_count": null,
      "outputs": [
        {
          "output_type": "execute_result",
          "data": {
            "text/plain": [
              "(tensor([[[5.]],\n",
              " \n",
              "         [[2.]],\n",
              " \n",
              "         [[3.]],\n",
              " \n",
              "         [[4.]],\n",
              " \n",
              "         [[5.]],\n",
              " \n",
              "         [[6.]],\n",
              " \n",
              "         [[7.]],\n",
              " \n",
              "         [[8.]],\n",
              " \n",
              "         [[9.]]]),\n",
              " torch.Size([9, 1, 1]))"
            ]
          },
          "metadata": {},
          "execution_count": 96
        }
      ]
    },
    {
      "cell_type": "code",
      "source": [
        "##permute\n",
        "\n",
        "x_original = torch.rand(size=(224,224,3))\n",
        "x_permuted = x_original.permute(2,0,1)  #shifts axis 0to1, 1to2, 2to0"
      ],
      "metadata": {
        "id": "moR9lCQFZn29"
      },
      "execution_count": 2,
      "outputs": []
    },
    {
      "cell_type": "code",
      "source": [
        "x_permuted.shape"
      ],
      "metadata": {
        "colab": {
          "base_uri": "https://localhost:8080/"
        },
        "id": "ND7o7d2oaZJC",
        "outputId": "aba0dde2-8d78-4e3a-9f84-46e220946ea5"
      },
      "execution_count": 3,
      "outputs": [
        {
          "output_type": "execute_result",
          "data": {
            "text/plain": [
              "torch.Size([3, 224, 224])"
            ]
          },
          "metadata": {},
          "execution_count": 3
        }
      ]
    },
    {
      "cell_type": "code",
      "source": [
        "x_original[0,0,0] = 0.18362"
      ],
      "metadata": {
        "id": "ZjCUysCbadex"
      },
      "execution_count": 4,
      "outputs": []
    },
    {
      "cell_type": "code",
      "source": [
        "x_original[0,0,0], x_permuted[0,0,0]"
      ],
      "metadata": {
        "colab": {
          "base_uri": "https://localhost:8080/"
        },
        "id": "ZkZwTLEeXeg9",
        "outputId": "64f46fb0-1cea-4287-8394-478b8cb96a99"
      },
      "execution_count": 5,
      "outputs": [
        {
          "output_type": "execute_result",
          "data": {
            "text/plain": [
              "(tensor(0.1836), tensor(0.1836))"
            ]
          },
          "metadata": {},
          "execution_count": 5
        }
      ]
    },
    {
      "cell_type": "markdown",
      "source": [
        "###INdexing (selecting data from tensros)\n",
        "Indexing with PyTorch similar to indexing with NumPy"
      ],
      "metadata": {
        "id": "M5M5NzuwXsbf"
      }
    },
    {
      "cell_type": "code",
      "source": [
        "x = torch.arange(1,10).reshape(1,3,3)\n",
        "x,x.shape"
      ],
      "metadata": {
        "colab": {
          "base_uri": "https://localhost:8080/"
        },
        "id": "BtJK4sIVXobf",
        "outputId": "2dd2a0a7-0c5e-4635-82b1-94ab76064160"
      },
      "execution_count": 6,
      "outputs": [
        {
          "output_type": "execute_result",
          "data": {
            "text/plain": [
              "(tensor([[[1, 2, 3],\n",
              "          [4, 5, 6],\n",
              "          [7, 8, 9]]]),\n",
              " torch.Size([1, 3, 3]))"
            ]
          },
          "metadata": {},
          "execution_count": 6
        }
      ]
    },
    {
      "cell_type": "code",
      "source": [
        "x[0]"
      ],
      "metadata": {
        "colab": {
          "base_uri": "https://localhost:8080/"
        },
        "id": "-ue2okwPX8yg",
        "outputId": "f1cbeec0-c675-41b1-83e6-c62fc6b3ccc0"
      },
      "execution_count": 7,
      "outputs": [
        {
          "output_type": "execute_result",
          "data": {
            "text/plain": [
              "tensor([[1, 2, 3],\n",
              "        [4, 5, 6],\n",
              "        [7, 8, 9]])"
            ]
          },
          "metadata": {},
          "execution_count": 7
        }
      ]
    },
    {
      "cell_type": "code",
      "source": [
        "x[0][0]"
      ],
      "metadata": {
        "colab": {
          "base_uri": "https://localhost:8080/"
        },
        "id": "cYxs2p9WYEc_",
        "outputId": "a845fb72-55b4-4b34-a82b-0ff29d2454bf"
      },
      "execution_count": 9,
      "outputs": [
        {
          "output_type": "execute_result",
          "data": {
            "text/plain": [
              "tensor([1, 2, 3])"
            ]
          },
          "metadata": {},
          "execution_count": 9
        }
      ]
    },
    {
      "cell_type": "code",
      "source": [
        "x[0][0][0]"
      ],
      "metadata": {
        "colab": {
          "base_uri": "https://localhost:8080/"
        },
        "id": "YkClE8ifYKQi",
        "outputId": "8588dea8-5baf-4f3b-abf8-a37c001ab496"
      },
      "execution_count": 10,
      "outputs": [
        {
          "output_type": "execute_result",
          "data": {
            "text/plain": [
              "tensor(1)"
            ]
          },
          "metadata": {},
          "execution_count": 10
        }
      ]
    },
    {
      "cell_type": "code",
      "source": [
        "x[0][1][1]"
      ],
      "metadata": {
        "colab": {
          "base_uri": "https://localhost:8080/"
        },
        "id": "0ddouD_-YRxb",
        "outputId": "31d8c0fe-8da6-4b56-faaa-1ecaad9a0b7f"
      },
      "execution_count": 12,
      "outputs": [
        {
          "output_type": "execute_result",
          "data": {
            "text/plain": [
              "tensor(5)"
            ]
          },
          "metadata": {},
          "execution_count": 12
        }
      ]
    },
    {
      "cell_type": "code",
      "source": [
        "x[:,0]"
      ],
      "metadata": {
        "colab": {
          "base_uri": "https://localhost:8080/"
        },
        "id": "RLwYAQWwYtb_",
        "outputId": "cc16f9a6-d52a-4a9d-ef97-ae17d7673ecd"
      },
      "execution_count": 13,
      "outputs": [
        {
          "output_type": "execute_result",
          "data": {
            "text/plain": [
              "tensor([[1, 2, 3]])"
            ]
          },
          "metadata": {},
          "execution_count": 13
        }
      ]
    },
    {
      "cell_type": "code",
      "source": [
        "x[:,:,1]  #get all values of 0th and 1st dimension and 1 index value of second dimension"
      ],
      "metadata": {
        "colab": {
          "base_uri": "https://localhost:8080/"
        },
        "id": "gjBb1aI9ZWDg",
        "outputId": "151ebeb2-bca2-4d71-e6b4-718d61512265"
      },
      "execution_count": 14,
      "outputs": [
        {
          "output_type": "execute_result",
          "data": {
            "text/plain": [
              "tensor([[2, 5, 8]])"
            ]
          },
          "metadata": {},
          "execution_count": 14
        }
      ]
    },
    {
      "cell_type": "code",
      "source": [
        "x[:,1,1], x[0,1,1]"
      ],
      "metadata": {
        "colab": {
          "base_uri": "https://localhost:8080/"
        },
        "id": "qHK_Ui2dZuoI",
        "outputId": "1bfbdf50-1f31-4e96-b340-a00e4ec55b91"
      },
      "execution_count": 16,
      "outputs": [
        {
          "output_type": "execute_result",
          "data": {
            "text/plain": [
              "(tensor([5]), tensor(5))"
            ]
          },
          "metadata": {},
          "execution_count": 16
        }
      ]
    },
    {
      "cell_type": "code",
      "source": [
        "x[0,0,:]"
      ],
      "metadata": {
        "colab": {
          "base_uri": "https://localhost:8080/"
        },
        "id": "DnwbmvulaFU8",
        "outputId": "b817be85-9ddf-4114-f20d-2ebad4830634"
      },
      "execution_count": 18,
      "outputs": [
        {
          "output_type": "execute_result",
          "data": {
            "text/plain": [
              "tensor([1, 2, 3])"
            ]
          },
          "metadata": {},
          "execution_count": 18
        }
      ]
    },
    {
      "cell_type": "code",
      "source": [
        "x[:,:,2]"
      ],
      "metadata": {
        "colab": {
          "base_uri": "https://localhost:8080/"
        },
        "id": "GMh26CtRaaFo",
        "outputId": "6d683392-17bb-4f33-c6c2-4b36f9707313"
      },
      "execution_count": 19,
      "outputs": [
        {
          "output_type": "execute_result",
          "data": {
            "text/plain": [
              "tensor([[3, 6, 9]])"
            ]
          },
          "metadata": {},
          "execution_count": 19
        }
      ]
    },
    {
      "cell_type": "markdown",
      "source": [
        "##PyTorch and Numpy\n",
        "\n",
        "* data in Numpy, want in Pytorch tensor -> `torch.from_numpy(ndarray)`\n",
        "* PyTorch tensor -> `torch.Tensor.numpy()`"
      ],
      "metadata": {
        "id": "rjm_EI0Za8DI"
      }
    },
    {
      "cell_type": "code",
      "source": [
        "import numpy as np"
      ],
      "metadata": {
        "id": "fcGTmoSIanUj"
      },
      "execution_count": 20,
      "outputs": []
    },
    {
      "cell_type": "code",
      "source": [
        "array = np.arange(1.0,8.0)\n",
        "tensor = torch.from_numpy(array)\n",
        "array, tensor"
      ],
      "metadata": {
        "colab": {
          "base_uri": "https://localhost:8080/"
        },
        "id": "RBUNc2NHbjel",
        "outputId": "0df7ba21-8c7c-483a-f34d-f81a2bcc3493"
      },
      "execution_count": 21,
      "outputs": [
        {
          "output_type": "execute_result",
          "data": {
            "text/plain": [
              "(array([1., 2., 3., 4., 5., 6., 7.]),\n",
              " tensor([1., 2., 3., 4., 5., 6., 7.], dtype=torch.float64))"
            ]
          },
          "metadata": {},
          "execution_count": 21
        }
      ]
    },
    {
      "cell_type": "code",
      "source": [
        "array.dtype"
      ],
      "metadata": {
        "colab": {
          "base_uri": "https://localhost:8080/"
        },
        "id": "YuNhzmAebsRT",
        "outputId": "4d2de286-5028-4aab-96f5-6b112f17e977"
      },
      "execution_count": 22,
      "outputs": [
        {
          "output_type": "execute_result",
          "data": {
            "text/plain": [
              "dtype('float64')"
            ]
          },
          "metadata": {},
          "execution_count": 22
        }
      ]
    },
    {
      "cell_type": "code",
      "source": [
        "tensor = torch.from_numpy(array).type(torch.float32)\n",
        "array, tensor"
      ],
      "metadata": {
        "colab": {
          "base_uri": "https://localhost:8080/"
        },
        "id": "YXxrPiUnb2JG",
        "outputId": "0200839e-b050-4dc7-9955-d7745a67c99d"
      },
      "execution_count": 23,
      "outputs": [
        {
          "output_type": "execute_result",
          "data": {
            "text/plain": [
              "(array([1., 2., 3., 4., 5., 6., 7.]), tensor([1., 2., 3., 4., 5., 6., 7.]))"
            ]
          },
          "metadata": {},
          "execution_count": 23
        }
      ]
    },
    {
      "cell_type": "code",
      "source": [
        "#Tensor to numpy\n",
        "tensor = torch.ones(7)\n",
        "numpy_tensor = tensor.numpy()\n",
        "tensor, numpy_tensor"
      ],
      "metadata": {
        "colab": {
          "base_uri": "https://localhost:8080/"
        },
        "id": "4HX6ReW_cC8I",
        "outputId": "e7923253-414e-4f36-9bbe-29ea718f5321"
      },
      "execution_count": 24,
      "outputs": [
        {
          "output_type": "execute_result",
          "data": {
            "text/plain": [
              "(tensor([1., 1., 1., 1., 1., 1., 1.]),\n",
              " array([1., 1., 1., 1., 1., 1., 1.], dtype=float32))"
            ]
          },
          "metadata": {},
          "execution_count": 24
        }
      ]
    },
    {
      "cell_type": "markdown",
      "source": [
        "##Reproducibility (trying to take random out of random)\n",
        "\n",
        "In short how a NN leanrs:\n",
        "\n",
        "`start with random numbers -> tensor operations -> update random numbers to try and make them better respresentation of the data -> again -> again...`\n",
        "\n",
        "To reduce the randomness in neural networks and PyTorch comes the concept of *Random seed*\n",
        "It flavours the randomness"
      ],
      "metadata": {
        "id": "b0fqaitYcyOY"
      }
    },
    {
      "cell_type": "code",
      "source": [
        "a = torch.rand(3,4)\n",
        "b = torch.rand(3,4)\n",
        "\n",
        "a==b"
      ],
      "metadata": {
        "colab": {
          "base_uri": "https://localhost:8080/"
        },
        "id": "KBHxbhjhceVm",
        "outputId": "b87507e9-5560-4aaf-b551-953ed6e96bd4"
      },
      "execution_count": 25,
      "outputs": [
        {
          "output_type": "execute_result",
          "data": {
            "text/plain": [
              "tensor([[False, False, False, False],\n",
              "        [False, False, False, False],\n",
              "        [False, False, False, False]])"
            ]
          },
          "metadata": {},
          "execution_count": 25
        }
      ]
    },
    {
      "cell_type": "code",
      "source": [
        "##making random but reproducible tensors\n",
        "\n",
        "Random_seed = 42\n",
        "torch.manual_seed(Random_seed)\n",
        "random_c = torch.rand(3,4)\n",
        "\n",
        "torch.manual_seed(Random_seed)\n",
        "random_d = torch.rand(3,4)\n",
        "\n",
        "print(random_d)\n",
        "print(random_c)\n",
        "print(random_c==random_d)"
      ],
      "metadata": {
        "colab": {
          "base_uri": "https://localhost:8080/"
        },
        "id": "rSENkrIgdsQ-",
        "outputId": "9c191af4-43dc-4399-e1bc-e0ed1253a0d2"
      },
      "execution_count": 26,
      "outputs": [
        {
          "output_type": "stream",
          "name": "stdout",
          "text": [
            "tensor([[0.8823, 0.9150, 0.3829, 0.9593],\n",
            "        [0.3904, 0.6009, 0.2566, 0.7936],\n",
            "        [0.9408, 0.1332, 0.9346, 0.5936]])\n",
            "tensor([[0.8823, 0.9150, 0.3829, 0.9593],\n",
            "        [0.3904, 0.6009, 0.2566, 0.7936],\n",
            "        [0.9408, 0.1332, 0.9346, 0.5936]])\n",
            "tensor([[True, True, True, True],\n",
            "        [True, True, True, True],\n",
            "        [True, True, True, True]])\n"
          ]
        }
      ]
    },
    {
      "cell_type": "markdown",
      "source": [
        "GPUs = faster computation on numbers"
      ],
      "metadata": {
        "id": "iBQ3XmPDetCA"
      }
    },
    {
      "cell_type": "code",
      "source": [
        "import torch\n",
        "torch.cuda.is_available()"
      ],
      "metadata": {
        "colab": {
          "base_uri": "https://localhost:8080/"
        },
        "id": "iOAEl6IIeacm",
        "outputId": "4f77808b-68d9-4497-f990-282b0818173f"
      },
      "execution_count": 1,
      "outputs": [
        {
          "output_type": "execute_result",
          "data": {
            "text/plain": [
              "True"
            ]
          },
          "metadata": {},
          "execution_count": 1
        }
      ]
    },
    {
      "cell_type": "code",
      "source": [
        "device = 'cuda' if torch.cuda.is_available() else \"cpu\"\n",
        "device"
      ],
      "metadata": {
        "colab": {
          "base_uri": "https://localhost:8080/",
          "height": 35
        },
        "id": "xuuq3w7aio2u",
        "outputId": "38de0232-00d7-445c-e0c4-388a207397dd"
      },
      "execution_count": 2,
      "outputs": [
        {
          "output_type": "execute_result",
          "data": {
            "text/plain": [
              "'cuda'"
            ],
            "application/vnd.google.colaboratory.intrinsic+json": {
              "type": "string"
            }
          },
          "metadata": {},
          "execution_count": 2
        }
      ]
    },
    {
      "cell_type": "code",
      "source": [
        "torch.cuda.device_count()"
      ],
      "metadata": {
        "colab": {
          "base_uri": "https://localhost:8080/"
        },
        "id": "ckaJQdj6i1NU",
        "outputId": "a8fae740-ca0b-4fd3-91bf-3f6d35949576"
      },
      "execution_count": 3,
      "outputs": [
        {
          "output_type": "execute_result",
          "data": {
            "text/plain": [
              "1"
            ]
          },
          "metadata": {},
          "execution_count": 3
        }
      ]
    },
    {
      "cell_type": "markdown",
      "source": [
        "##Putting tensors (and models) on the GPU\n",
        " for faster computations"
      ],
      "metadata": {
        "id": "XlUuhBiKjeJP"
      }
    },
    {
      "cell_type": "code",
      "source": [
        "# Create a tensor\n",
        "tensor1 = torch.tensor([1,2,3], device='cpu')\n",
        "\n",
        "print(tensor1, tensor1.device)"
      ],
      "metadata": {
        "colab": {
          "base_uri": "https://localhost:8080/"
        },
        "id": "DE0WkFYMi7XK",
        "outputId": "ae5adeb9-8729-463c-a0b1-e6f397666d9e"
      },
      "execution_count": 4,
      "outputs": [
        {
          "output_type": "stream",
          "name": "stdout",
          "text": [
            "tensor([1, 2, 3]) cpu\n"
          ]
        }
      ]
    },
    {
      "cell_type": "code",
      "source": [
        "##Move tensor to GPU (if available)\n",
        "tensor_on_gpu = tensor1.to(device)\n",
        "tensor_on_gpu"
      ],
      "metadata": {
        "colab": {
          "base_uri": "https://localhost:8080/"
        },
        "id": "Zk7wkPINjz6Z",
        "outputId": "d31cb8c5-edf7-4570-a417-dc53535d865b"
      },
      "execution_count": 5,
      "outputs": [
        {
          "output_type": "execute_result",
          "data": {
            "text/plain": [
              "tensor([1, 2, 3], device='cuda:0')"
            ]
          },
          "metadata": {},
          "execution_count": 5
        }
      ]
    },
    {
      "cell_type": "markdown",
      "source": [
        "## Moving tenosrs back to a CPU"
      ],
      "metadata": {
        "id": "eOV5g4WDkJOf"
      }
    },
    {
      "cell_type": "code",
      "source": [
        "##If the tensor is on GPU, it does not work with NumPy\n",
        "\n",
        "tensor_on_gpu.numpy()"
      ],
      "metadata": {
        "colab": {
          "base_uri": "https://localhost:8080/",
          "height": 193
        },
        "id": "SbtrtEvckBI5",
        "outputId": "af13ee83-6d36-4a82-d8ac-a0c2de10fc13"
      },
      "execution_count": 6,
      "outputs": [
        {
          "output_type": "error",
          "ename": "TypeError",
          "evalue": "can't convert cuda:0 device type tensor to numpy. Use Tensor.cpu() to copy the tensor to host memory first.",
          "traceback": [
            "\u001b[0;31m---------------------------------------------------------------------------\u001b[0m",
            "\u001b[0;31mTypeError\u001b[0m                                 Traceback (most recent call last)",
            "\u001b[0;32m<ipython-input-6-03084ebb0f32>\u001b[0m in \u001b[0;36m<cell line: 3>\u001b[0;34m()\u001b[0m\n\u001b[1;32m      1\u001b[0m \u001b[0;31m##If the tensor is on GPU, it does not work with NumPy\u001b[0m\u001b[0;34m\u001b[0m\u001b[0;34m\u001b[0m\u001b[0m\n\u001b[1;32m      2\u001b[0m \u001b[0;34m\u001b[0m\u001b[0m\n\u001b[0;32m----> 3\u001b[0;31m \u001b[0mtensor_on_gpu\u001b[0m\u001b[0;34m.\u001b[0m\u001b[0mnumpy\u001b[0m\u001b[0;34m(\u001b[0m\u001b[0;34m)\u001b[0m\u001b[0;34m\u001b[0m\u001b[0;34m\u001b[0m\u001b[0m\n\u001b[0m",
            "\u001b[0;31mTypeError\u001b[0m: can't convert cuda:0 device type tensor to numpy. Use Tensor.cpu() to copy the tensor to host memory first."
          ]
        }
      ]
    },
    {
      "cell_type": "code",
      "source": [
        "tensor_back_to_cpu = tensor_on_gpu.cpu().numpy()\n",
        "tensor_back_to_cpu"
      ],
      "metadata": {
        "colab": {
          "base_uri": "https://localhost:8080/"
        },
        "id": "UKyV9NFckYvb",
        "outputId": "9aaaacc8-5962-4c10-c0dc-aed398893cbb"
      },
      "execution_count": 7,
      "outputs": [
        {
          "output_type": "execute_result",
          "data": {
            "text/plain": [
              "array([1, 2, 3])"
            ]
          },
          "metadata": {},
          "execution_count": 7
        }
      ]
    },
    {
      "cell_type": "code",
      "source": [],
      "metadata": {
        "id": "TIstt1UAkkty"
      },
      "execution_count": null,
      "outputs": []
    }
  ]
}