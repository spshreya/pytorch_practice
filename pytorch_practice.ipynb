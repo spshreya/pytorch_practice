{
  "nbformat": 4,
  "nbformat_minor": 0,
  "metadata": {
    "colab": {
      "provenance": [],
      "gpuType": "T4",
      "authorship_tag": "ABX9TyN+F7YJLJBzwrF8T6igSfLH",
      "include_colab_link": true
    },
    "kernelspec": {
      "name": "python3",
      "display_name": "Python 3"
    },
    "language_info": {
      "name": "python"
    }
  },
  "cells": [
    {
      "cell_type": "markdown",
      "metadata": {
        "id": "view-in-github",
        "colab_type": "text"
      },
      "source": [
        "<a href=\"https://colab.research.google.com/github/spshreya/pytorch_practice/blob/main/pytorch_practice.ipynb\" target=\"_parent\"><img src=\"https://colab.research.google.com/assets/colab-badge.svg\" alt=\"Open In Colab\"/></a>"
      ]
    },
    {
      "cell_type": "markdown",
      "source": [
        "## 00. PyTorch Fundamentals FreeCodeCamp mrdbrouke\n",
        "\n",
        "https://www.learnpytorch.io/00_pytorch_fundamentals/"
      ],
      "metadata": {
        "id": "sXSEACaxoz56"
      }
    },
    {
      "cell_type": "code",
      "execution_count": 1,
      "metadata": {
        "id": "VZKnd5ISGgYw",
        "colab": {
          "base_uri": "https://localhost:8080/"
        },
        "outputId": "1551d4d6-e76c-40b8-90d5-da56760251f9"
      },
      "outputs": [
        {
          "output_type": "stream",
          "name": "stdout",
          "text": [
            "/bin/bash: line 1: nvidia-smi: command not found\n"
          ]
        }
      ],
      "source": [
        "!nvidia-smi"
      ]
    },
    {
      "cell_type": "code",
      "source": [
        "import torch\n",
        "import pandas as pd\n",
        "import numpy as np\n",
        "import matplotlib.pyplot as plt\n",
        "print(torch.__version__)"
      ],
      "metadata": {
        "colab": {
          "base_uri": "https://localhost:8080/"
        },
        "id": "O_yEI-wcn9kq",
        "outputId": "afb7464c-22de-4dca-9ab6-c4d2fbedc9f4"
      },
      "execution_count": 2,
      "outputs": [
        {
          "output_type": "stream",
          "name": "stdout",
          "text": [
            "2.1.0+cu121\n"
          ]
        }
      ]
    },
    {
      "cell_type": "markdown",
      "source": [
        "#Introduction to Tensors\n",
        "\n",
        "##Creating Tensors"
      ],
      "metadata": {
        "id": "jhn3N34kq0Ne"
      }
    },
    {
      "cell_type": "code",
      "source": [
        "#scalar\n",
        "scalar = torch.tensor(7)"
      ],
      "metadata": {
        "id": "CYFOxF2xpP8f"
      },
      "execution_count": 3,
      "outputs": []
    },
    {
      "cell_type": "code",
      "source": [
        "scalar"
      ],
      "metadata": {
        "colab": {
          "base_uri": "https://localhost:8080/"
        },
        "id": "gd0wEKivrAY_",
        "outputId": "f2da86d2-ec5e-4a7e-abf6-1af14053f4d6"
      },
      "execution_count": 4,
      "outputs": [
        {
          "output_type": "execute_result",
          "data": {
            "text/plain": [
              "tensor(7)"
            ]
          },
          "metadata": {},
          "execution_count": 4
        }
      ]
    },
    {
      "cell_type": "code",
      "source": [
        "scalar.ndim  #scalar has no dimensions"
      ],
      "metadata": {
        "colab": {
          "base_uri": "https://localhost:8080/"
        },
        "id": "ExyjF6B6rBUw",
        "outputId": "b0f48090-2753-4bea-ab31-4d3c37fd1bd3"
      },
      "execution_count": 5,
      "outputs": [
        {
          "output_type": "execute_result",
          "data": {
            "text/plain": [
              "0"
            ]
          },
          "metadata": {},
          "execution_count": 5
        }
      ]
    },
    {
      "cell_type": "code",
      "source": [
        "scalar.item()  #tensor back as python int"
      ],
      "metadata": {
        "colab": {
          "base_uri": "https://localhost:8080/"
        },
        "id": "KHY8v4HtrfTG",
        "outputId": "99dfaa91-6327-4fde-9b0f-0390da1c5b12"
      },
      "execution_count": 6,
      "outputs": [
        {
          "output_type": "execute_result",
          "data": {
            "text/plain": [
              "7"
            ]
          },
          "metadata": {},
          "execution_count": 6
        }
      ]
    },
    {
      "cell_type": "code",
      "source": [
        "#vector\n",
        "vector = torch.tensor((1,7))\n",
        "vector"
      ],
      "metadata": {
        "colab": {
          "base_uri": "https://localhost:8080/"
        },
        "id": "yRmaAL1Zrj5u",
        "outputId": "aca0d1a9-157a-4d37-9c59-eaa69a349f15"
      },
      "execution_count": 7,
      "outputs": [
        {
          "output_type": "execute_result",
          "data": {
            "text/plain": [
              "tensor([1, 7])"
            ]
          },
          "metadata": {},
          "execution_count": 7
        }
      ]
    },
    {
      "cell_type": "code",
      "source": [
        "vector.ndim"
      ],
      "metadata": {
        "colab": {
          "base_uri": "https://localhost:8080/"
        },
        "id": "lW6NYLXlrq5L",
        "outputId": "a631dba2-fddd-4211-91c7-81fd0d2c7325"
      },
      "execution_count": 8,
      "outputs": [
        {
          "output_type": "execute_result",
          "data": {
            "text/plain": [
              "1"
            ]
          },
          "metadata": {},
          "execution_count": 8
        }
      ]
    },
    {
      "cell_type": "code",
      "source": [
        "vector.shape"
      ],
      "metadata": {
        "colab": {
          "base_uri": "https://localhost:8080/"
        },
        "id": "g1VCOvGdrxIK",
        "outputId": "82553d88-cb30-4fde-98cd-78b8dba5895d"
      },
      "execution_count": 9,
      "outputs": [
        {
          "output_type": "execute_result",
          "data": {
            "text/plain": [
              "torch.Size([2])"
            ]
          },
          "metadata": {},
          "execution_count": 9
        }
      ]
    },
    {
      "cell_type": "code",
      "source": [
        "  #Matrix\n",
        "\n",
        "  MATRIX = torch.tensor([[7,8],\n",
        "                         [9,10]])\n",
        "  MATRIX"
      ],
      "metadata": {
        "colab": {
          "base_uri": "https://localhost:8080/"
        },
        "id": "kKGkRj-br0sQ",
        "outputId": "6f4a8d6d-ff3f-4c99-89ce-9c680464010f"
      },
      "execution_count": 10,
      "outputs": [
        {
          "output_type": "execute_result",
          "data": {
            "text/plain": [
              "tensor([[ 7,  8],\n",
              "        [ 9, 10]])"
            ]
          },
          "metadata": {},
          "execution_count": 10
        }
      ]
    },
    {
      "cell_type": "code",
      "source": [
        "MATRIX.ndim"
      ],
      "metadata": {
        "id": "KTyiwvUGvbR9",
        "colab": {
          "base_uri": "https://localhost:8080/"
        },
        "outputId": "28ca6f8a-d9e7-4992-eb48-5ee685fa968a"
      },
      "execution_count": 11,
      "outputs": [
        {
          "output_type": "execute_result",
          "data": {
            "text/plain": [
              "2"
            ]
          },
          "metadata": {},
          "execution_count": 11
        }
      ]
    },
    {
      "cell_type": "code",
      "source": [
        "MATRIX.shape"
      ],
      "metadata": {
        "colab": {
          "base_uri": "https://localhost:8080/"
        },
        "id": "FUSHfuVYSeE0",
        "outputId": "911aa256-60de-4099-95c4-52f917782b92"
      },
      "execution_count": 12,
      "outputs": [
        {
          "output_type": "execute_result",
          "data": {
            "text/plain": [
              "torch.Size([2, 2])"
            ]
          },
          "metadata": {},
          "execution_count": 12
        }
      ]
    },
    {
      "cell_type": "code",
      "source": [
        "MATRIX[0]"
      ],
      "metadata": {
        "colab": {
          "base_uri": "https://localhost:8080/"
        },
        "id": "KYvSLQLAXDeg",
        "outputId": "52b37197-b307-4dad-dafa-4853274d7baa"
      },
      "execution_count": 18,
      "outputs": [
        {
          "output_type": "execute_result",
          "data": {
            "text/plain": [
              "tensor([7, 8])"
            ]
          },
          "metadata": {},
          "execution_count": 18
        }
      ]
    },
    {
      "cell_type": "code",
      "source": [
        "MATRIX[1]"
      ],
      "metadata": {
        "colab": {
          "base_uri": "https://localhost:8080/"
        },
        "id": "4IPVY0N3SmfE",
        "outputId": "81624f67-05f2-42c9-c02a-734ee7edb722"
      },
      "execution_count": 13,
      "outputs": [
        {
          "output_type": "execute_result",
          "data": {
            "text/plain": [
              "tensor([ 9, 10])"
            ]
          },
          "metadata": {},
          "execution_count": 13
        }
      ]
    },
    {
      "cell_type": "code",
      "source": [
        "TENSOR = torch.tensor([[[1,2,3],\n",
        "                        [3,6,9],\n",
        "                        [2,4,5]]])\n",
        "TENSOR"
      ],
      "metadata": {
        "colab": {
          "base_uri": "https://localhost:8080/"
        },
        "id": "2zeqGV-hSp4c",
        "outputId": "93603652-615d-458b-8f22-de1fcf1f15a1"
      },
      "execution_count": 14,
      "outputs": [
        {
          "output_type": "execute_result",
          "data": {
            "text/plain": [
              "tensor([[[1, 2, 3],\n",
              "         [3, 6, 9],\n",
              "         [2, 4, 5]]])"
            ]
          },
          "metadata": {},
          "execution_count": 14
        }
      ]
    },
    {
      "cell_type": "code",
      "source": [
        "TENSOR.ndim"
      ],
      "metadata": {
        "colab": {
          "base_uri": "https://localhost:8080/"
        },
        "id": "PdtqFr0YTHLh",
        "outputId": "e8fdccb0-b1e4-4e60-97c3-401995884709"
      },
      "execution_count": 15,
      "outputs": [
        {
          "output_type": "execute_result",
          "data": {
            "text/plain": [
              "3"
            ]
          },
          "metadata": {},
          "execution_count": 15
        }
      ]
    },
    {
      "cell_type": "code",
      "source": [
        "TENSOR.shape   #we have 1 -3*3 matrix"
      ],
      "metadata": {
        "colab": {
          "base_uri": "https://localhost:8080/"
        },
        "id": "pvGXuYKeVUXr",
        "outputId": "3b0312f7-cdfc-4f27-fe37-0a79e00b81b6"
      },
      "execution_count": 16,
      "outputs": [
        {
          "output_type": "execute_result",
          "data": {
            "text/plain": [
              "torch.Size([1, 3, 3])"
            ]
          },
          "metadata": {},
          "execution_count": 16
        }
      ]
    },
    {
      "cell_type": "code",
      "source": [
        "TENSOR[0]"
      ],
      "metadata": {
        "colab": {
          "base_uri": "https://localhost:8080/"
        },
        "id": "geVyhkihVsbL",
        "outputId": "a43a2fe1-de0a-4b22-9bd4-7ff8aac67874"
      },
      "execution_count": 17,
      "outputs": [
        {
          "output_type": "execute_result",
          "data": {
            "text/plain": [
              "tensor([[1, 2, 3],\n",
              "        [3, 6, 9],\n",
              "        [2, 4, 5]])"
            ]
          },
          "metadata": {},
          "execution_count": 17
        }
      ]
    },
    {
      "cell_type": "markdown",
      "source": [
        "### Random Tensors\n",
        "\n",
        "They are important as many NNs learn is that when they start, it is with random numbers and then adjust the numbers to a better representation of numbers\n",
        "\n",
        "\n",
        "\n",
        "start with random numbers -> look at data -> update random numbers -> look at data -> update"
      ],
      "metadata": {
        "id": "ijGOPup2Xewz"
      }
    },
    {
      "cell_type": "code",
      "source": [
        "random_tensor = torch.rand(10,10,10)\n",
        "random_tensor"
      ],
      "metadata": {
        "colab": {
          "base_uri": "https://localhost:8080/"
        },
        "id": "J0YkmiPJYbC9",
        "outputId": "7627f626-1a9e-4eaa-c3f9-d41dd907c7aa"
      },
      "execution_count": 22,
      "outputs": [
        {
          "output_type": "execute_result",
          "data": {
            "text/plain": [
              "tensor([[[8.4014e-01, 4.5818e-01, 9.2637e-01, 9.3633e-01, 4.4082e-01,\n",
              "          6.1227e-01, 2.0745e-01, 6.4948e-01, 5.3920e-01, 4.8064e-01],\n",
              "         [7.3105e-01, 3.4198e-01, 8.3770e-01, 5.0405e-01, 9.5320e-01,\n",
              "          6.2645e-02, 4.8919e-01, 3.4341e-01, 7.5984e-01, 3.7868e-01],\n",
              "         [4.9910e-01, 4.8046e-01, 5.1814e-01, 1.8141e-02, 6.3722e-01,\n",
              "          3.4580e-01, 6.8116e-01, 2.5732e-01, 9.6763e-02, 5.6920e-01],\n",
              "         [4.2386e-01, 8.0103e-01, 4.8222e-01, 8.9719e-01, 8.9955e-02,\n",
              "          6.1831e-01, 3.5209e-01, 8.1020e-01, 1.9322e-01, 5.3762e-01],\n",
              "         [7.7699e-01, 1.4197e-02, 4.2572e-01, 4.6923e-01, 1.7798e-02,\n",
              "          1.4418e-01, 1.0582e-01, 9.8089e-01, 4.2284e-01, 1.1514e-01],\n",
              "         [7.8408e-02, 4.1396e-01, 1.4917e-01, 9.0548e-02, 1.8227e-01,\n",
              "          7.6952e-01, 5.3100e-01, 9.8282e-01, 8.7117e-02, 2.5278e-02],\n",
              "         [5.4662e-01, 5.7157e-01, 5.5958e-01, 8.6485e-01, 8.1306e-01,\n",
              "          3.8392e-01, 3.9169e-02, 2.3008e-01, 3.1520e-01, 4.2547e-01],\n",
              "         [2.2451e-01, 5.9684e-01, 5.7811e-01, 1.4965e-01, 5.3539e-01,\n",
              "          9.7392e-01, 8.2461e-01, 9.3798e-01, 7.8892e-01, 9.5904e-01],\n",
              "         [2.3296e-01, 3.7802e-01, 5.8776e-01, 8.4138e-01, 1.8525e-01,\n",
              "          7.7556e-01, 6.0951e-01, 9.6946e-02, 5.6327e-01, 8.2419e-01],\n",
              "         [2.3449e-01, 2.6850e-01, 7.7449e-01, 2.5681e-01, 8.5891e-01,\n",
              "          2.5792e-01, 7.1704e-01, 8.4132e-01, 6.7281e-01, 2.3071e-01]],\n",
              "\n",
              "        [[2.8963e-01, 4.7306e-01, 4.2027e-01, 3.5554e-02, 7.4366e-01,\n",
              "          4.0528e-01, 1.0889e-01, 9.2690e-01, 8.8868e-01, 2.3215e-01],\n",
              "         [4.2861e-01, 8.0099e-01, 9.7354e-01, 1.0926e-01, 2.8380e-01,\n",
              "          3.4623e-01, 5.6035e-02, 4.4930e-01, 3.7873e-01, 4.1113e-01],\n",
              "         [4.4768e-01, 5.1228e-01, 6.9406e-01, 4.7584e-02, 3.5448e-01,\n",
              "          3.0043e-01, 6.4280e-01, 3.0617e-01, 4.8868e-01, 6.2481e-01],\n",
              "         [3.2639e-01, 9.0156e-01, 6.0865e-03, 8.7969e-01, 4.6414e-01,\n",
              "          4.8066e-01, 4.1449e-01, 6.3897e-01, 6.0062e-01, 1.6644e-01],\n",
              "         [5.0939e-01, 1.9992e-01, 1.8410e-01, 7.8305e-01, 7.3157e-01,\n",
              "          9.5670e-01, 6.4004e-01, 3.3866e-01, 9.7229e-02, 7.8714e-01],\n",
              "         [7.1030e-01, 5.9700e-01, 9.4077e-01, 3.1068e-01, 6.6332e-01,\n",
              "          5.5334e-01, 5.7263e-01, 3.8718e-02, 3.2822e-03, 6.6889e-01],\n",
              "         [7.5128e-02, 2.6865e-01, 9.6372e-01, 3.8537e-01, 6.5934e-01,\n",
              "          2.5139e-01, 9.3646e-01, 8.5189e-01, 8.1245e-01, 6.7622e-01],\n",
              "         [6.3825e-01, 7.4754e-01, 7.7401e-01, 9.5060e-01, 1.0571e-01,\n",
              "          3.8423e-01, 6.1671e-01, 7.4356e-01, 3.0248e-01, 8.8230e-01],\n",
              "         [2.4756e-01, 3.7632e-01, 9.2443e-01, 7.0802e-01, 5.8920e-01,\n",
              "          2.8628e-01, 4.8207e-01, 8.3010e-01, 5.5865e-01, 4.8140e-01],\n",
              "         [6.8425e-01, 5.0371e-01, 8.1976e-01, 6.1175e-01, 5.7864e-01,\n",
              "          6.8091e-01, 4.0538e-02, 3.7141e-02, 8.5258e-02, 3.9333e-01]],\n",
              "\n",
              "        [[2.2239e-01, 7.3088e-02, 7.6067e-01, 2.4875e-01, 4.3502e-01,\n",
              "          1.6911e-01, 5.3376e-01, 9.3793e-01, 8.2000e-01, 4.1028e-02],\n",
              "         [3.7405e-01, 8.9679e-02, 8.6434e-01, 8.0919e-01, 8.8271e-01,\n",
              "          6.5461e-01, 8.3453e-01, 6.0824e-01, 4.0945e-01, 4.1900e-01],\n",
              "         [8.4165e-01, 3.2246e-01, 4.3061e-01, 5.5831e-01, 6.0954e-01,\n",
              "          8.8098e-01, 9.7969e-01, 5.9698e-01, 4.6243e-01, 2.0279e-02],\n",
              "         [6.3547e-01, 2.7598e-01, 4.5724e-01, 9.2588e-01, 9.6500e-01,\n",
              "          3.1178e-01, 3.7972e-01, 2.2626e-01, 4.9761e-01, 4.7229e-01],\n",
              "         [2.6195e-02, 7.2011e-01, 8.0375e-01, 7.3934e-01, 4.8167e-01,\n",
              "          3.3323e-01, 5.0236e-01, 5.5009e-01, 4.5784e-01, 7.5358e-01],\n",
              "         [2.6431e-01, 9.1074e-01, 4.5812e-01, 8.4159e-01, 3.5521e-01,\n",
              "          2.3663e-01, 6.2598e-01, 8.7874e-01, 3.7291e-01, 1.8585e-01],\n",
              "         [3.3502e-01, 6.8121e-01, 5.5704e-01, 7.4303e-01, 9.1989e-01,\n",
              "          5.5167e-01, 3.7361e-01, 7.6568e-02, 1.0641e-01, 9.8582e-01],\n",
              "         [2.9242e-01, 1.9905e-01, 7.5675e-01, 7.5597e-01, 2.0017e-01,\n",
              "          1.7412e-02, 6.0150e-02, 6.6673e-01, 6.8992e-01, 9.6645e-02],\n",
              "         [3.9785e-01, 4.0224e-01, 8.7970e-02, 5.6633e-01, 2.3683e-01,\n",
              "          4.6893e-01, 8.9682e-01, 8.3145e-01, 7.3528e-02, 2.8453e-01],\n",
              "         [3.9144e-01, 7.2241e-01, 9.9046e-01, 9.5825e-01, 1.6007e-01,\n",
              "          7.7101e-01, 1.5320e-01, 4.6337e-01, 7.8603e-01, 3.6379e-01]],\n",
              "\n",
              "        [[6.3974e-01, 1.5319e-01, 7.6212e-01, 2.2814e-01, 8.4922e-01,\n",
              "          9.3770e-01, 3.7784e-01, 5.4878e-01, 2.4490e-01, 7.7412e-01],\n",
              "         [6.5305e-01, 5.7303e-01, 6.2578e-01, 7.3519e-01, 1.2800e-01,\n",
              "          5.7254e-01, 7.9778e-01, 3.2441e-01, 7.6440e-01, 1.7981e-01],\n",
              "         [7.1930e-01, 3.4906e-01, 1.8054e-01, 9.5757e-01, 9.6554e-01,\n",
              "          2.7209e-01, 3.8985e-01, 6.6347e-01, 6.1314e-01, 4.1165e-01],\n",
              "         [1.0684e-01, 4.3019e-02, 1.7270e-01, 7.1368e-02, 6.6661e-01,\n",
              "          3.5590e-01, 5.8862e-01, 3.6734e-01, 2.0449e-01, 4.0957e-01],\n",
              "         [4.2031e-01, 2.6714e-01, 2.8993e-01, 9.3898e-01, 6.6092e-01,\n",
              "          3.1312e-01, 8.7125e-01, 6.5016e-01, 1.3749e-01, 2.6828e-01],\n",
              "         [9.2103e-01, 6.8488e-01, 6.3555e-01, 8.2464e-01, 6.4658e-01,\n",
              "          7.0669e-01, 1.7370e-01, 6.7631e-01, 1.8784e-02, 8.1400e-01],\n",
              "         [1.4230e-01, 4.4823e-01, 5.5235e-01, 8.9206e-01, 9.8554e-01,\n",
              "          1.1189e-01, 1.7748e-01, 9.6689e-01, 5.0742e-01, 2.6314e-01],\n",
              "         [3.9222e-01, 9.5136e-01, 1.9150e-01, 3.6850e-01, 7.5486e-01,\n",
              "          7.2208e-01, 1.6129e-01, 7.7121e-01, 3.5117e-01, 4.1145e-01],\n",
              "         [3.8734e-01, 7.6436e-01, 8.2299e-01, 7.7214e-01, 7.7345e-01,\n",
              "          1.2832e-01, 9.3442e-01, 5.5538e-01, 7.8413e-01, 6.4603e-02],\n",
              "         [2.9910e-01, 3.8479e-01, 9.8856e-01, 7.3441e-01, 7.8223e-01,\n",
              "          1.5890e-01, 6.6245e-01, 9.1995e-01, 1.9364e-01, 8.8771e-01]],\n",
              "\n",
              "        [[6.9184e-01, 5.3063e-01, 1.6138e-01, 7.1267e-01, 8.8154e-01,\n",
              "          8.0301e-01, 6.6103e-01, 2.7177e-01, 4.5754e-01, 3.9418e-01],\n",
              "         [1.1465e-01, 4.6688e-01, 6.6609e-01, 5.5727e-01, 2.4162e-01,\n",
              "          1.5860e-02, 8.8509e-01, 5.0036e-01, 4.7068e-01, 7.1900e-01],\n",
              "         [5.5155e-01, 3.7543e-01, 2.2868e-01, 9.1895e-01, 3.0880e-01,\n",
              "          3.9668e-01, 8.7283e-01, 3.9102e-01, 9.5991e-01, 9.2304e-01],\n",
              "         [2.8307e-01, 2.4402e-01, 2.2947e-01, 3.0259e-01, 9.6946e-02,\n",
              "          2.8395e-01, 4.3242e-01, 6.1882e-01, 6.8162e-01, 1.5681e-01],\n",
              "         [2.4854e-02, 5.0739e-01, 8.8110e-01, 1.6877e-01, 5.1360e-01,\n",
              "          5.8496e-01, 6.5505e-01, 6.4899e-01, 6.2038e-01, 6.1853e-01],\n",
              "         [4.8669e-01, 3.9380e-01, 9.3165e-01, 6.7736e-01, 7.9823e-01,\n",
              "          7.8678e-01, 6.6353e-01, 4.1444e-01, 8.3418e-01, 8.7265e-01],\n",
              "         [6.1870e-01, 3.5486e-01, 1.3777e-02, 7.8281e-01, 3.2634e-01,\n",
              "          8.4370e-01, 2.0069e-01, 3.6946e-01, 7.5708e-02, 3.1804e-02],\n",
              "         [9.2174e-01, 1.7257e-01, 2.6281e-01, 5.7835e-01, 4.1148e-01,\n",
              "          3.4826e-01, 5.0245e-01, 9.7961e-01, 7.3213e-01, 7.8904e-01],\n",
              "         [9.7734e-01, 8.6669e-01, 7.3053e-01, 7.0168e-01, 7.9935e-01,\n",
              "          5.9578e-01, 4.7612e-01, 4.1442e-01, 5.0026e-01, 2.4568e-01],\n",
              "         [6.7345e-01, 9.2556e-01, 7.6575e-01, 6.4559e-01, 9.0748e-01,\n",
              "          7.8134e-01, 4.5895e-01, 3.7351e-01, 1.9614e-01, 6.0030e-01]],\n",
              "\n",
              "        [[7.8391e-01, 5.7711e-02, 5.7508e-01, 4.0361e-01, 6.5221e-01,\n",
              "          2.4165e-01, 3.8362e-01, 4.4695e-01, 6.7857e-01, 9.1952e-04],\n",
              "         [7.5171e-01, 6.9643e-01, 6.0148e-01, 7.8070e-01, 5.4256e-01,\n",
              "          8.7517e-01, 8.8675e-01, 9.0501e-01, 8.4050e-01, 2.8944e-02],\n",
              "         [5.1781e-01, 5.9100e-01, 6.7871e-01, 4.6951e-01, 1.3542e-01,\n",
              "          4.4598e-01, 7.6830e-01, 7.8478e-01, 2.2212e-02, 2.1529e-01],\n",
              "         [1.9648e-01, 2.7606e-01, 2.9564e-01, 7.6289e-02, 9.2123e-01,\n",
              "          1.0435e-01, 3.0332e-01, 7.5258e-01, 3.0590e-01, 2.1014e-01],\n",
              "         [7.8212e-01, 4.1764e-02, 9.6949e-02, 3.7556e-01, 9.6055e-02,\n",
              "          7.6881e-01, 2.0638e-01, 6.0931e-01, 2.4156e-01, 5.2598e-01],\n",
              "         [1.3851e-01, 3.9109e-01, 6.6104e-01, 6.7674e-01, 4.8946e-01,\n",
              "          5.1045e-01, 2.5790e-01, 3.5610e-01, 1.1349e-01, 7.7509e-02],\n",
              "         [5.7287e-02, 2.7247e-01, 7.8814e-01, 4.2873e-01, 9.8378e-01,\n",
              "          1.6238e-01, 8.2603e-01, 3.2869e-02, 7.1841e-01, 7.6621e-01],\n",
              "         [5.8479e-01, 3.3256e-01, 7.2308e-01, 6.4933e-01, 7.0350e-02,\n",
              "          1.9880e-01, 2.7892e-02, 9.7553e-01, 6.2903e-01, 9.5913e-02],\n",
              "         [1.4266e-01, 1.8302e-01, 9.1694e-01, 1.1023e-01, 6.5285e-01,\n",
              "          2.1681e-01, 4.2309e-01, 9.3603e-03, 2.0170e-01, 5.8256e-03],\n",
              "         [6.3899e-01, 8.2597e-03, 5.7661e-03, 9.2138e-01, 2.1147e-01,\n",
              "          2.1746e-01, 4.2222e-01, 3.4436e-01, 1.1673e-01, 6.1785e-01]],\n",
              "\n",
              "        [[3.9968e-01, 7.7178e-02, 9.2120e-01, 3.7738e-01, 8.3064e-02,\n",
              "          8.4855e-01, 1.4144e-01, 9.5501e-01, 8.5342e-01, 4.9245e-01],\n",
              "         [7.3079e-01, 9.4444e-01, 5.1043e-01, 3.4484e-01, 2.9040e-01,\n",
              "          7.0017e-02, 7.0611e-01, 3.0517e-01, 4.9568e-02, 6.2644e-01],\n",
              "         [3.3488e-01, 5.3331e-01, 8.8904e-01, 2.9817e-01, 5.5320e-01,\n",
              "          2.1027e-01, 4.1498e-01, 8.9474e-01, 5.6053e-01, 7.9084e-01],\n",
              "         [1.8506e-01, 6.1937e-01, 9.8820e-01, 4.7494e-01, 4.4694e-01,\n",
              "          4.5088e-02, 4.5073e-01, 6.9006e-01, 1.9907e-01, 1.6673e-02],\n",
              "         [8.1957e-01, 1.8607e-02, 5.2400e-01, 6.2361e-01, 3.4436e-02,\n",
              "          4.6626e-01, 7.7086e-01, 9.8144e-01, 1.7806e-01, 3.0135e-01],\n",
              "         [6.6647e-01, 5.6620e-01, 1.0235e-01, 2.2378e-01, 9.5160e-01,\n",
              "          3.0675e-01, 3.4741e-01, 5.9703e-01, 8.7120e-01, 7.4884e-02],\n",
              "         [8.8966e-01, 5.3939e-01, 4.8106e-01, 7.0862e-01, 7.1366e-01,\n",
              "          9.1272e-01, 4.4613e-01, 1.4590e-01, 8.6702e-01, 5.8663e-01],\n",
              "         [7.8099e-01, 2.0678e-01, 4.1419e-01, 6.3762e-01, 9.5341e-01,\n",
              "          4.4867e-01, 2.7956e-01, 8.7221e-01, 5.9020e-01, 2.2894e-02],\n",
              "         [1.9918e-01, 6.3621e-01, 1.1137e-01, 5.9550e-01, 4.8238e-01,\n",
              "          1.6416e-01, 3.7994e-01, 9.2988e-01, 6.0029e-01, 1.3832e-02],\n",
              "         [2.9504e-01, 8.5661e-01, 9.3420e-01, 3.6087e-01, 9.0105e-01,\n",
              "          1.3069e-01, 2.6364e-01, 6.3752e-02, 9.4435e-01, 4.9603e-01]],\n",
              "\n",
              "        [[6.4275e-01, 5.1763e-01, 9.9529e-01, 1.8681e-02, 5.1816e-02,\n",
              "          5.1959e-01, 1.6940e-01, 4.4494e-01, 6.7060e-01, 5.5625e-01],\n",
              "         [8.9195e-01, 3.2348e-01, 5.3304e-01, 8.7991e-01, 1.1483e-01,\n",
              "          5.3809e-01, 6.4809e-01, 8.2269e-01, 8.3030e-01, 2.8486e-01],\n",
              "         [8.1580e-01, 2.8229e-01, 6.4553e-01, 9.5055e-01, 9.1654e-01,\n",
              "          3.7889e-01, 3.3489e-03, 3.6272e-01, 5.6288e-01, 6.9651e-01],\n",
              "         [4.8078e-01, 4.6809e-01, 3.6054e-01, 1.7599e-02, 5.1310e-01,\n",
              "          8.1473e-01, 1.0624e-01, 8.2354e-02, 6.6859e-01, 6.2204e-01],\n",
              "         [2.4602e-01, 6.6864e-01, 1.9010e-01, 9.9525e-01, 2.0126e-01,\n",
              "          4.9067e-01, 2.4328e-01, 3.6909e-01, 3.6946e-01, 5.0675e-01],\n",
              "         [7.9677e-01, 3.4722e-01, 1.8455e-01, 2.6275e-01, 1.0440e-01,\n",
              "          4.9672e-01, 3.2299e-01, 2.5014e-01, 4.8445e-01, 1.0018e-01],\n",
              "         [7.6233e-01, 7.0575e-01, 3.7055e-02, 6.9603e-01, 4.3838e-01,\n",
              "          1.7031e-01, 3.9232e-01, 4.6997e-01, 1.6996e-01, 5.8738e-02],\n",
              "         [1.7586e-01, 1.2436e-01, 7.1742e-01, 7.1284e-01, 8.5213e-01,\n",
              "          2.6813e-01, 1.6957e-01, 9.0529e-01, 4.7086e-01, 8.1612e-01],\n",
              "         [7.4624e-01, 8.0441e-02, 4.2187e-01, 3.2206e-02, 5.9852e-01,\n",
              "          2.0109e-01, 7.6863e-01, 2.0591e-01, 8.5496e-01, 3.4395e-01],\n",
              "         [6.5042e-02, 8.7448e-01, 7.1154e-01, 8.5840e-01, 2.5493e-01,\n",
              "          7.6301e-01, 1.9017e-01, 9.5387e-01, 4.7739e-02, 2.5452e-01]],\n",
              "\n",
              "        [[8.3420e-01, 6.6195e-01, 4.6927e-01, 8.3953e-01, 7.2869e-01,\n",
              "          9.9530e-01, 7.7981e-01, 7.7323e-01, 9.1546e-01, 7.8193e-01],\n",
              "         [5.1320e-01, 4.1226e-01, 9.3725e-01, 1.6314e-01, 8.0200e-01,\n",
              "          4.0132e-01, 6.2320e-01, 7.8507e-01, 1.9615e-01, 2.3474e-01],\n",
              "         [6.3352e-01, 4.7944e-01, 5.8037e-01, 3.3563e-01, 5.3988e-01,\n",
              "          7.4579e-01, 1.7433e-01, 2.1623e-01, 3.1877e-01, 7.8313e-01],\n",
              "         [7.6322e-01, 1.0594e-01, 5.2403e-01, 1.5469e-01, 3.6951e-01,\n",
              "          1.5151e-01, 9.6861e-01, 3.4641e-01, 9.5309e-01, 3.1428e-01],\n",
              "         [4.4472e-01, 8.4771e-02, 6.0188e-01, 6.8989e-01, 8.7559e-01,\n",
              "          8.6650e-02, 5.7203e-01, 4.9523e-01, 1.1480e-02, 8.0552e-01],\n",
              "         [1.1013e-01, 7.6812e-01, 2.8111e-01, 2.6655e-01, 7.5051e-01,\n",
              "          2.6869e-01, 9.7972e-01, 9.8472e-01, 4.9782e-02, 4.5500e-01],\n",
              "         [6.9307e-01, 4.9511e-01, 3.0336e-01, 9.5475e-01, 3.7681e-01,\n",
              "          3.4895e-01, 6.1214e-01, 6.4039e-01, 9.2510e-01, 3.7393e-01],\n",
              "         [3.3264e-01, 3.0879e-01, 2.2489e-01, 7.9653e-01, 8.1658e-01,\n",
              "          3.9139e-01, 2.9245e-01, 7.1557e-01, 6.9622e-01, 4.2334e-01],\n",
              "         [4.7749e-02, 4.6305e-01, 3.9080e-02, 6.1666e-01, 3.7810e-02,\n",
              "          4.6682e-01, 2.4150e-01, 7.9832e-01, 3.4463e-01, 9.7280e-01],\n",
              "         [5.1736e-01, 9.8741e-01, 8.4926e-01, 4.6547e-01, 5.0441e-01,\n",
              "          4.6135e-01, 8.3600e-01, 1.8731e-01, 7.2226e-01, 8.9567e-01]],\n",
              "\n",
              "        [[8.5633e-01, 8.6232e-01, 8.3385e-01, 3.6388e-01, 5.7107e-01,\n",
              "          1.3332e-01, 6.2959e-01, 9.3502e-01, 5.8777e-01, 9.2055e-01],\n",
              "         [9.0190e-01, 5.1897e-01, 6.5912e-01, 1.3107e-01, 7.5966e-01,\n",
              "          3.2217e-01, 5.6826e-01, 4.0206e-01, 4.5932e-01, 4.9065e-01],\n",
              "         [1.7146e-01, 7.9829e-01, 3.8185e-01, 3.1957e-01, 6.2115e-01,\n",
              "          2.9461e-02, 2.1793e-01, 3.0728e-01, 7.8335e-01, 1.0771e-01],\n",
              "         [8.7486e-01, 1.3547e-01, 8.1059e-01, 2.6451e-01, 5.3143e-01,\n",
              "          1.4312e-01, 1.5891e-01, 7.6116e-01, 8.8104e-01, 7.4396e-01],\n",
              "         [8.8879e-01, 1.3296e-01, 4.1968e-01, 2.7566e-01, 8.9107e-01,\n",
              "          6.2559e-01, 6.3848e-01, 8.8877e-01, 6.6871e-01, 6.1624e-01],\n",
              "         [6.9819e-01, 6.0713e-01, 1.5261e-01, 6.4664e-01, 9.4281e-01,\n",
              "          3.1308e-01, 2.9454e-01, 5.6399e-01, 3.9319e-01, 6.8236e-01],\n",
              "         [5.0783e-01, 1.3032e-01, 1.7801e-01, 1.1435e-01, 6.2964e-01,\n",
              "          1.0555e-01, 4.0417e-01, 9.1331e-01, 1.2917e-01, 4.3674e-02],\n",
              "         [1.8321e-01, 7.7152e-01, 2.4093e-01, 2.8284e-01, 4.7162e-02,\n",
              "          8.9556e-01, 9.3380e-01, 6.0515e-01, 7.4462e-01, 1.6796e-01],\n",
              "         [6.9376e-01, 5.7308e-01, 8.8656e-01, 7.4035e-01, 6.9540e-01,\n",
              "          6.5498e-01, 3.1407e-02, 5.6044e-01, 7.6337e-01, 8.5204e-01],\n",
              "         [9.0670e-01, 1.8472e-01, 7.2802e-02, 6.2575e-01, 1.6794e-01,\n",
              "          7.0648e-01, 9.7700e-03, 3.0119e-01, 6.4036e-02, 5.5798e-01]]])"
            ]
          },
          "metadata": {},
          "execution_count": 22
        }
      ]
    },
    {
      "cell_type": "code",
      "source": [
        "random_tensor = torch.rand(3,4)\n",
        "random_tensor"
      ],
      "metadata": {
        "colab": {
          "base_uri": "https://localhost:8080/"
        },
        "id": "Uuicx5laVxVc",
        "outputId": "3ef2153d-2596-44d7-dcd0-bde31146ed5b"
      },
      "execution_count": 23,
      "outputs": [
        {
          "output_type": "execute_result",
          "data": {
            "text/plain": [
              "tensor([[0.9779, 0.0136, 0.6886, 0.3304],\n",
              "        [0.1943, 0.4580, 0.3546, 0.8689],\n",
              "        [0.2554, 0.6508, 0.0894, 0.7376]])"
            ]
          },
          "metadata": {},
          "execution_count": 23
        }
      ]
    },
    {
      "cell_type": "code",
      "source": [
        "random_tensor.ndim"
      ],
      "metadata": {
        "colab": {
          "base_uri": "https://localhost:8080/"
        },
        "id": "j1qMEKRkYM_u",
        "outputId": "7a8640b4-f60c-42a8-98d1-442a83012c42"
      },
      "execution_count": 24,
      "outputs": [
        {
          "output_type": "execute_result",
          "data": {
            "text/plain": [
              "2"
            ]
          },
          "metadata": {},
          "execution_count": 24
        }
      ]
    },
    {
      "cell_type": "code",
      "source": [
        "# Create a random tensor with similar shape to an image tensor\n",
        "\n",
        "random_image_size_tensor = torch.rand(size=(224,224,3)) #height, width, color channel #RGB\n",
        "random_image_size_tensor.ndim"
      ],
      "metadata": {
        "colab": {
          "base_uri": "https://localhost:8080/"
        },
        "id": "DJXOGQFHYmG4",
        "outputId": "5684d428-e75d-4ce8-8868-a0379081dd61"
      },
      "execution_count": 25,
      "outputs": [
        {
          "output_type": "execute_result",
          "data": {
            "text/plain": [
              "3"
            ]
          },
          "metadata": {},
          "execution_count": 25
        }
      ]
    },
    {
      "cell_type": "code",
      "source": [
        "random_image_size_tensor.shape"
      ],
      "metadata": {
        "colab": {
          "base_uri": "https://localhost:8080/"
        },
        "id": "gc0RgzqTZEAX",
        "outputId": "44e0f18c-75ba-4441-fc19-a9e530cbc103"
      },
      "execution_count": 26,
      "outputs": [
        {
          "output_type": "execute_result",
          "data": {
            "text/plain": [
              "torch.Size([224, 224, 3])"
            ]
          },
          "metadata": {},
          "execution_count": 26
        }
      ]
    },
    {
      "cell_type": "markdown",
      "source": [
        "### Zeros and ones"
      ],
      "metadata": {
        "id": "Fuwm26uWZrG7"
      }
    },
    {
      "cell_type": "markdown",
      "source": [],
      "metadata": {
        "id": "xFDq1tS5ZrCd"
      }
    },
    {
      "cell_type": "code",
      "source": [
        "zeros = torch.zeros(3,4)"
      ],
      "metadata": {
        "id": "io8CdrqYZJV1"
      },
      "execution_count": 28,
      "outputs": []
    },
    {
      "cell_type": "code",
      "source": [
        "zeros"
      ],
      "metadata": {
        "colab": {
          "base_uri": "https://localhost:8080/"
        },
        "id": "Uq5c0i44ZwcD",
        "outputId": "9ef92316-644e-4827-8845-a6814ce320e6"
      },
      "execution_count": 29,
      "outputs": [
        {
          "output_type": "execute_result",
          "data": {
            "text/plain": [
              "tensor([[0., 0., 0., 0.],\n",
              "        [0., 0., 0., 0.],\n",
              "        [0., 0., 0., 0.]])"
            ]
          },
          "metadata": {},
          "execution_count": 29
        }
      ]
    },
    {
      "cell_type": "code",
      "source": [
        "zeros*random_tensor"
      ],
      "metadata": {
        "colab": {
          "base_uri": "https://localhost:8080/"
        },
        "id": "I5eJESgrZztK",
        "outputId": "a8d5e5c8-af72-4f5a-bd82-4e784abd4567"
      },
      "execution_count": 30,
      "outputs": [
        {
          "output_type": "execute_result",
          "data": {
            "text/plain": [
              "tensor([[0., 0., 0., 0.],\n",
              "        [0., 0., 0., 0.],\n",
              "        [0., 0., 0., 0.]])"
            ]
          },
          "metadata": {},
          "execution_count": 30
        }
      ]
    },
    {
      "cell_type": "code",
      "source": [
        "ones = torch.ones(3,4)"
      ],
      "metadata": {
        "id": "BF8W88yJZ4NI"
      },
      "execution_count": 31,
      "outputs": []
    },
    {
      "cell_type": "code",
      "source": [
        "ones.dtype"
      ],
      "metadata": {
        "colab": {
          "base_uri": "https://localhost:8080/"
        },
        "id": "2BOO8xH3Z3i6",
        "outputId": "090368f8-eb48-461a-b294-2a175fbaeab1"
      },
      "execution_count": 32,
      "outputs": [
        {
          "output_type": "execute_result",
          "data": {
            "text/plain": [
              "torch.float32"
            ]
          },
          "metadata": {},
          "execution_count": 32
        }
      ]
    },
    {
      "cell_type": "markdown",
      "source": [
        "## Creating a range of tensors and tensors-like"
      ],
      "metadata": {
        "id": "hfAq-RaOaQoW"
      }
    },
    {
      "cell_type": "code",
      "source": [
        "one_to_ten = torch.arange(1,11)  #start,end,step\n",
        "one_to_ten"
      ],
      "metadata": {
        "colab": {
          "base_uri": "https://localhost:8080/"
        },
        "id": "f0AutptGZ9jX",
        "outputId": "8278c32f-2071-47c9-f297-e813581d8d97"
      },
      "execution_count": 35,
      "outputs": [
        {
          "output_type": "execute_result",
          "data": {
            "text/plain": [
              "tensor([ 1,  2,  3,  4,  5,  6,  7,  8,  9, 10])"
            ]
          },
          "metadata": {},
          "execution_count": 35
        }
      ]
    },
    {
      "cell_type": "code",
      "source": [
        "#creating tensors-like\n",
        "ten_zeros = torch.zeros_like(input=one_to_ten)\n",
        "ten_zeros"
      ],
      "metadata": {
        "colab": {
          "base_uri": "https://localhost:8080/"
        },
        "id": "yH5qza8babuJ",
        "outputId": "aac828ab-729d-4eca-a58b-3ef4937bd58a"
      },
      "execution_count": 36,
      "outputs": [
        {
          "output_type": "execute_result",
          "data": {
            "text/plain": [
              "tensor([0, 0, 0, 0, 0, 0, 0, 0, 0, 0])"
            ]
          },
          "metadata": {},
          "execution_count": 36
        }
      ]
    },
    {
      "cell_type": "code",
      "source": [],
      "metadata": {
        "id": "PcE67lFkbFa5"
      },
      "execution_count": null,
      "outputs": []
    }
  ]
}